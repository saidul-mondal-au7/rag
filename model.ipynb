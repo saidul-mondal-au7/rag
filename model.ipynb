{
 "cells": [
  {
   "cell_type": "code",
   "execution_count": 49,
   "metadata": {},
   "outputs": [],
   "source": [
    "import os\n",
    "from langchain_community.document_loaders import PyPDFLoader, PyMuPDFLoader\n",
    "from langchain_text_splitters import RecursiveCharacterTextSplitter\n",
    "from pathlib import Path"
   ]
  },
  {
   "cell_type": "code",
   "execution_count": 51,
   "metadata": {},
   "outputs": [
    {
     "name": "stdout",
     "output_type": "stream",
     "text": [
      "Found 2 PDF files to process\n",
      "\n",
      "Processing: camcom_2.pdf\n",
      "  ✓ Loaded 2 pages\n",
      "\n",
      "Processing: camcom.pdf\n",
      "  ✓ Loaded 5 pages\n",
      "\n",
      "Total documents loaded: 7\n"
     ]
    }
   ],
   "source": [
    "def process_all_pdfs(pdf_directory):\n",
    "    all_documents = []\n",
    "    pdf_dir = Path(pdf_directory)\n",
    "    pdf_files = list(pdf_dir.glob('**/*.pdf'))\n",
    "\n",
    "    print(f\"Found {len(pdf_files)} PDF files to process\")\n",
    "\n",
    "    for pdf_file in pdf_files:\n",
    "        print(f\"\\nProcessing: {pdf_file.name}\")\n",
    "\n",
    "        try:\n",
    "            loader = PyPDFLoader(str(pdf_file))\n",
    "            documents = loader.load()\n",
    "            for doc in documents:\n",
    "                doc.metadata['source_file'] = pdf_file.name\n",
    "                doc.metadata['file_type'] = 'pdf'\n",
    "\n",
    "            all_documents.extend(documents)\n",
    "            print(f\"  ✓ Loaded {len(documents)} pages\")\n",
    "\n",
    "        except Exception as e:\n",
    "            print(f\"  ✗ Error: {e}\")\n",
    "\n",
    "    print(f\"\\nTotal documents loaded: {len(all_documents)}\")\n",
    "    return all_documents\n",
    "\n",
    "all_pdf_documents = process_all_pdfs(\"../data\")"
   ]
  },
  {
   "cell_type": "code",
   "execution_count": 52,
   "metadata": {},
   "outputs": [
    {
     "data": {
      "text/plain": [
       "[Document(metadata={'producer': 'ReportLab PDF Library - www.reportlab.com', 'creator': 'ReportLab PDF Library - www.reportlab.com', 'creationdate': '2025-09-09T15:09:15+00:00', 'author': 'anonymous', 'keywords': '', 'moddate': '2025-09-09T15:09:15+00:00', 'subject': 'unspecified', 'title': 'untitled', 'trapped': '/False', 'source': '../data/camcom_2.pdf', 'total_pages': 2, 'page': 0, 'page_label': '1', 'source_file': 'camcom_2.pdf', 'file_type': 'pdf'}, page_content=\"CamCom Technologies Pvt Ltd — Company Profile\\nExecutive Summary\\nCamCom Technologies Pvt Ltd (CamCom) is a Bengaluru-based, award-winning, industry-agnostic deep-learning\\ncomputer vision company that provides visual inspection and damage/defect assessment solutions across\\nautomotive, insurance, manufacturing, logistics and other sectors. They have developed large vision models for\\nsurface-agnostic defect assessment and offer cloud & mobile-enabled deployments for both manufacturing and\\naftermarket workflows.\\nKey Facts\\nLegal name: CamCom Technologies Private Limited CIN: U74999KA2017PTC106196 Headquarters: No.70, 2nd Floor, 1st\\nCross, Shayadri Layout Billekahalli, Arakere, off Bannerghatta Road, Bangalore 560076, India Founded: 2017\\n(company sources and profiles list founders and early dates) Website: https://camcom.ai\\nLeadership & Founders\\nAjith Nayar — Co-founder & CEO Uma (Umesh) Mahesh — Co-founder & President (Americas) Mahesh Subramanian — Co-\\nfounder & President (APAC) Geetha Sham — Director & President (Europe) Other founders/executives reported in\\ncompany profiles and startup databases.\\nProducts & Solutions\\n\\x7f Large Vision Models (LVM) for surface-agnostic defect and damage assessment \\x7f AI& (flagship LVM + LLM hybrid\\n— announced at their 8th anniversary launch) \\x7f Automated visual inspection for automotive OEM (end-of-line),\\nfinished-vehicle logistics (PDIs), insurance claims automation, aerospace inspections, warehousing & pharma\\nfinal inspection \\x7f Mobile apps and cloud services for inspection workflows, OCR for labels and documents, and\\nreal-time pass/fail analytics.\\nTechnology & Capabilities\\n\\x7f Micro-defect detection (claims of detection down to ~50 microns in manufacturing contexts) \\x7f Industry-\\nagnostic models trained on large, customer-validated datasets \\x7f Integrations with cloud & edge compute,\\npartnerships with AWS/Intel/Nvidia noted in public materials\\nRecent News & Partnerships (selected)\\n\\x7f AI& launch (announced during CamCom's 8th anniversary celebrations) — positioned as a 24B-parameter LVM with\\ncombined LLM capabilities for predict/prescribe/prevent workflows. \\x7f Strategic partnership and global\\ndeployment with ERGO Group AG / ERGO Insurance for insurance-sector inspections and claims automation. \\x7f\\nMultiple regional deployments across Asia, Europe, Middle East and Mexico (per company news and press\\ncoverage).\\nAwards & Recognition\\n\\x7f Multiple startup and innovation recognitions in India and internationally (CamCom materials cite innovation\\nawards and industry recognitions such as NASSCOM-related listings).\\nCorporate & Registry Data\\nSources such as corporate registries and business-data platforms list the registered address, CIN, and company\\nstatus. The last reported AGM listed in public records was in 2024.\\nReferences (selected)\\nCamCom official site: https://camcom.ai CamCom — About / Resources / Contact pages (company website) Press\\ncoverage: Tribune India, PTI/Press Trust of India, CXOToday Business registries & profiles: Bloomberg LEI\"),\n",
       " Document(metadata={'producer': 'ReportLab PDF Library - www.reportlab.com', 'creator': 'ReportLab PDF Library - www.reportlab.com', 'creationdate': '2025-09-09T15:09:15+00:00', 'author': 'anonymous', 'keywords': '', 'moddate': '2025-09-09T15:09:15+00:00', 'subject': 'unspecified', 'title': 'untitled', 'trapped': '/False', 'source': '../data/camcom_2.pdf', 'total_pages': 2, 'page': 1, 'page_label': '2', 'source_file': 'camcom_2.pdf', 'file_type': 'pdf'}, page_content='record, Zaubacorp, Tofler, Tracxn News/press releases linked with ERGO Group partnership and product launch\\ndetails.\\nGenerated PDF: CamCom Technologies Pvt Ltd — compiled by ChatGPT using public sources (Sep 9, 2025).'),\n",
       " Document(metadata={'producer': 'xdvipdfmx (20220710)', 'creator': 'LaTeX with hyperref', 'creationdate': '2025-09-09T15:04:36+00:00', 'source': '../data/camcom.pdf', 'total_pages': 5, 'page': 0, 'page_label': '1', 'source_file': 'camcom.pdf', 'file_type': 'pdf'}, page_content='CamCom Technologies Pvt. Ltd.\\nCompany Profile\\nAs of September 2025\\nCompiled by Grok, created by xAI\\nSource: Publicly available information from camcom.ai, IndiaFilings, ZaubaCorp, The\\nCompany Check, and other web sources.'),\n",
       " Document(metadata={'producer': 'xdvipdfmx (20220710)', 'creator': 'LaTeX with hyperref', 'creationdate': '2025-09-09T15:04:36+00:00', 'source': '../data/camcom.pdf', 'total_pages': 5, 'page': 1, 'page_label': '1', 'source_file': 'camcom.pdf', 'file_type': 'pdf'}, page_content='1 Company Overview\\nCamCom Technologies Pvt. Ltd. is a Bengaluru-based deep-tech startup special-\\nizing in AI-powered visual inspection platforms leveraging computer vision and\\ndeep learning technologies. Established on September 7, 2017, the company fo-\\ncuses on automating defect detection, damage assessment, and quality control\\nacross various industries. It is registered as a private limited, non-government\\ncompany under the Registrar of Companies (RoC), Bangalore, with the Corporate\\nIdentification Number (CIN) U74999KA2017PTC106196.\\n1.1 Key Details\\n• Registered Name: CamCom Technologies Private Limited\\n• Former Name: Gifto Retail Technologies Private Limited\\n• Incorporation Date: September 7, 2017\\n• Company Type: Private, Company Limited by Shares\\n• Registered Address: No. 70, 2nd Floor, 1st Cross, Shayadri Layout, Billeka-\\nhalli, Arakere, off Bannerghatta Road, Bangalore, Karnataka, India - 560076\\n• Email: umesh@camcom.ai\\n• Website: https://camcom.ai\\n• Listing Status: Unlisted\\n• Company Status: Active (as of July 2023)\\n• NIC Code: 7499 (Other business activities n.e.c., service activities for com-\\nmercial clients)\\n2 Financial Information\\nCamCom Technologies Pvt. Ltd. operates with a modest financial structure, as\\nreported by various sources up to June 2025.\\n• Authorized Share Capital: ₹1,700,000\\n• Paid-up Capital: ₹1,078,045\\n• Open Charges: ₹5,000,000\\n• Satisfied Charges: ₹1,000,000\\n• Revenue Growth (FY 2023): 39.70%\\n• Profit Growth (FY 2023): -237.57%\\n• EBITDA (FY 2023): -235.77%\\n• Net Worth (FY 2023): 10.98%\\n• Total Assets Growth (FY 2023): 40.90%\\n• Last Annual General Meeting: September 27, 2024\\n1'),\n",
       " Document(metadata={'producer': 'xdvipdfmx (20220710)', 'creator': 'LaTeX with hyperref', 'creationdate': '2025-09-09T15:04:36+00:00', 'source': '../data/camcom.pdf', 'total_pages': 5, 'page': 2, 'page_label': '2', 'source_file': 'camcom.pdf', 'file_type': 'pdf'}, page_content='• Last Balance Sheet Filed: March 31, 2024\\n3 Technology and Solutions\\nCamCom is a pioneer in AI-driven visual inspection, utilizing its proprietary\\nLarge Vision Model (LVM), India’s first domain-specific AI engine trained on over\\n450 million validated images. The platform achieves up to 96% accuracy in dam-\\nage assessments and supports:\\n• Core Technologies: Deep learning, computer vision, semantic segmenta-\\ntion, transfer learning, and heatmap-based dent depth identification.\\n• Inspection Capabilities: Micro-level defect detection (down to 50 microns),\\nobject detection, and image classification.\\n• Deployment Modes: Custom hardware (e.g., deflectometry rigs for surface\\ndefects), smartphone-based guided inspections, and drone-based solutions\\nfor large-scale applications.\\n• Patented Innovations: Includes automated quality check rigs for automo-\\ntive and apparel industries, vehicle accident impact point determination,\\nand more (patents filed in India since 2023).\\n4 Industries and Applications\\nCamCom’s industry-agnostic platform serves multiple sectors with tailored solu-\\ntions:\\n• Automotive: Pre-delivery inspections (PDI), roll-on/roll-off damage track-\\ning, and end-to-end vehicle audits for OEMs, dealerships, and fleet opera-\\ntors.\\n• Insurance: Rapid underwriting and claims processing (e.g., vehicle claims\\nsettled in under 5 minutes), pre-inspection for motor and homeowners’\\npolicies.\\n• Pharmaceuticals and Warehousing: Product-to-catalog matching, defect\\ndetection, and data comparisons for disposal.\\n• Fashion: Automated quality checks for apparel (in collaboration with Myn-\\ntra).\\n• Public Safety and Infrastructure: Monthly inspections of over 7 million\\nitems in Saudi Arabia, smart city monitoring with Vistas Global, and disas-\\nter response solutions.\\n• Other Sectors: Airlines, gas cylinder inspections, defense/civilian aircraft\\nmaintenance, and more.\\n2'),\n",
       " Document(metadata={'producer': 'xdvipdfmx (20220710)', 'creator': 'LaTeX with hyperref', 'creationdate': '2025-09-09T15:04:36+00:00', 'source': '../data/camcom.pdf', 'total_pages': 5, 'page': 3, 'page_label': '3', 'source_file': 'camcom.pdf', 'file_type': 'pdf'}, page_content='5 Leadership and Directors\\nThe company is led by a team of experienced directors, as reported by The Com-\\npany Check and ZaubaCorp (as of June 2025):\\n• Geetha Sham: Director (Appointed: July 26, 2023)\\n• Ajith Nayar: Director (Appointed: September 7, 2017)\\n• Subramanian Mahesh: Director (Appointed: August 30, 2019)\\n• Uma Mahesh: Director (Appointed: September 7, 2017)\\n• Pradyumna Dalmia: Director (Appointed: July 26, 2023)\\n• Past Director: Pramodkumar Bhurmal (Cessation: Unknown)\\n6 Partnerships and Achievements\\nCamCom has established significant partnerships and earned multiple accolades:\\n• Key Partnerships:\\n– Myntra: Automated quality control for apparel.\\n– HDFC ERGO and Zurich: Insurance underwriting and claims.\\n– ERGO Group: 2025 rollout in Baltic states for European insurance mar-\\nkets.\\n– Guidewire and Duck Creek: Integration for vehicle damage estimation.\\n– Vistas Global: Smart city AI solutions.\\n• Awards and Recognition:\\n– Top Startup by Government of India, NASSCOM, Mahindra Mobility,\\nand Intel Startup Program.\\n– Aegis Graham Bell Award for Innovation in Insurance (2025).\\n• Global Presence: Offices in Dubai, Munich, and Düsseldorf, with a val-\\nuation of $4.13M after raising $1.74M across 6 funding rounds (investors\\ninclude Triton Investment Advisors).\\n• Recent Milestones (2025): Launched “AI&” (Large Vision Model platform),\\npublished a book on aircraft maintenance solutions, and celebrated 8 years\\nwith events attended by dignitaries like MP Sasmit Patra.\\n7 Commitment to Sustainability\\nCamCom aligns with global sustainability goals, supporting UN Sustainable De-\\nvelopment Goals through initiatives like migrant worker upliftment and disaster\\nresponse. Their solutions reduce manual errors, enhance efficiency, and pro-\\nmote eco-friendly processes in industries like automotive and insurance.\\n3'),\n",
       " Document(metadata={'producer': 'xdvipdfmx (20220710)', 'creator': 'LaTeX with hyperref', 'creationdate': '2025-09-09T15:04:36+00:00', 'source': '../data/camcom.pdf', 'total_pages': 5, 'page': 4, 'page_label': '4', 'source_file': 'camcom.pdf', 'file_type': 'pdf'}, page_content='8 Contact Information\\n• Email: umesh@camcom.ai\\n• Telephone: Available upon request via official channels\\n• Website: https://camcom.ai\\n• Social Media: LinkedIn (https://in.linkedin.com/company/camcom),\\nX\\n• Registered Office: No. 70, 2nd Floor, 1st Cross, Shayadri Layout, Billeka-\\nhalli, Arakere, off Bannerghatta Road, Bangalore, Karnataka, India - 560076\\n4')]"
      ]
     },
     "execution_count": 52,
     "metadata": {},
     "output_type": "execute_result"
    }
   ],
   "source": [
    "all_pdf_documents"
   ]
  },
  {
   "cell_type": "code",
   "execution_count": 53,
   "metadata": {},
   "outputs": [],
   "source": [
    "### Text splitting get into chunks\n",
    "def split_documents(documents, chunk_size=1000, chunk_overlap=200):\n",
    "    \"\"\"Split documents into smaller chunks for better RAG performance\"\"\"\n",
    "\n",
    "    text_splitter = RecursiveCharacterTextSplitter(\n",
    "        chunk_size = chunk_size,\n",
    "        chunk_overlap = chunk_overlap,\n",
    "        length_function=len,\n",
    "        separators=[\"\\n\\n\", \"\\n\", \" \", \"\"]\n",
    "    )\n",
    "\n",
    "    split_docs = text_splitter.split_documents(documents)\n",
    "    print(f\"Split {len(documents)} documents into {len(split_docs)} chunks\")\n",
    "\n",
    "    # Show example of a chunk\n",
    "    if split_docs:\n",
    "        print(f\"\\nExample chunk:\")\n",
    "        print(f\"Content: {split_docs[0].page_content[:200]}...\")\n",
    "        print(f\"Metadata: {split_docs[0].metadata}\")\n",
    "    \n",
    "    return split_docs\n",
    "\n"
   ]
  },
  {
   "cell_type": "code",
   "execution_count": 54,
   "metadata": {},
   "outputs": [
    {
     "name": "stdout",
     "output_type": "stream",
     "text": [
      "Split 7 documents into 15 chunks\n",
      "\n",
      "Example chunk:\n",
      "Content: CamCom Technologies Pvt Ltd — Company Profile\n",
      "Executive Summary\n",
      "CamCom Technologies Pvt Ltd (CamCom) is a Bengaluru-based, award-winning, industry-agnostic deep-learning\n",
      "computer vision company that p...\n",
      "Metadata: {'producer': 'ReportLab PDF Library - www.reportlab.com', 'creator': 'ReportLab PDF Library - www.reportlab.com', 'creationdate': '2025-09-09T15:09:15+00:00', 'author': 'anonymous', 'keywords': '', 'moddate': '2025-09-09T15:09:15+00:00', 'subject': 'unspecified', 'title': 'untitled', 'trapped': '/False', 'source': '../data/camcom_2.pdf', 'total_pages': 2, 'page': 0, 'page_label': '1', 'source_file': 'camcom_2.pdf', 'file_type': 'pdf'}\n"
     ]
    },
    {
     "data": {
      "text/plain": [
       "[Document(metadata={'producer': 'ReportLab PDF Library - www.reportlab.com', 'creator': 'ReportLab PDF Library - www.reportlab.com', 'creationdate': '2025-09-09T15:09:15+00:00', 'author': 'anonymous', 'keywords': '', 'moddate': '2025-09-09T15:09:15+00:00', 'subject': 'unspecified', 'title': 'untitled', 'trapped': '/False', 'source': '../data/camcom_2.pdf', 'total_pages': 2, 'page': 0, 'page_label': '1', 'source_file': 'camcom_2.pdf', 'file_type': 'pdf'}, page_content='CamCom Technologies Pvt Ltd — Company Profile\\nExecutive Summary\\nCamCom Technologies Pvt Ltd (CamCom) is a Bengaluru-based, award-winning, industry-agnostic deep-learning\\ncomputer vision company that provides visual inspection and damage/defect assessment solutions across\\nautomotive, insurance, manufacturing, logistics and other sectors. They have developed large vision models for\\nsurface-agnostic defect assessment and offer cloud & mobile-enabled deployments for both manufacturing and\\naftermarket workflows.\\nKey Facts\\nLegal name: CamCom Technologies Private Limited CIN: U74999KA2017PTC106196 Headquarters: No.70, 2nd Floor, 1st\\nCross, Shayadri Layout Billekahalli, Arakere, off Bannerghatta Road, Bangalore 560076, India Founded: 2017\\n(company sources and profiles list founders and early dates) Website: https://camcom.ai\\nLeadership & Founders\\nAjith Nayar — Co-founder & CEO Uma (Umesh) Mahesh — Co-founder & President (Americas) Mahesh Subramanian — Co-'),\n",
       " Document(metadata={'producer': 'ReportLab PDF Library - www.reportlab.com', 'creator': 'ReportLab PDF Library - www.reportlab.com', 'creationdate': '2025-09-09T15:09:15+00:00', 'author': 'anonymous', 'keywords': '', 'moddate': '2025-09-09T15:09:15+00:00', 'subject': 'unspecified', 'title': 'untitled', 'trapped': '/False', 'source': '../data/camcom_2.pdf', 'total_pages': 2, 'page': 0, 'page_label': '1', 'source_file': 'camcom_2.pdf', 'file_type': 'pdf'}, page_content='Leadership & Founders\\nAjith Nayar — Co-founder & CEO Uma (Umesh) Mahesh — Co-founder & President (Americas) Mahesh Subramanian — Co-\\nfounder & President (APAC) Geetha Sham — Director & President (Europe) Other founders/executives reported in\\ncompany profiles and startup databases.\\nProducts & Solutions\\n\\x7f Large Vision Models (LVM) for surface-agnostic defect and damage assessment \\x7f AI& (flagship LVM + LLM hybrid\\n— announced at their 8th anniversary launch) \\x7f Automated visual inspection for automotive OEM (end-of-line),\\nfinished-vehicle logistics (PDIs), insurance claims automation, aerospace inspections, warehousing & pharma\\nfinal inspection \\x7f Mobile apps and cloud services for inspection workflows, OCR for labels and documents, and\\nreal-time pass/fail analytics.\\nTechnology & Capabilities\\n\\x7f Micro-defect detection (claims of detection down to ~50 microns in manufacturing contexts) \\x7f Industry-'),\n",
       " Document(metadata={'producer': 'ReportLab PDF Library - www.reportlab.com', 'creator': 'ReportLab PDF Library - www.reportlab.com', 'creationdate': '2025-09-09T15:09:15+00:00', 'author': 'anonymous', 'keywords': '', 'moddate': '2025-09-09T15:09:15+00:00', 'subject': 'unspecified', 'title': 'untitled', 'trapped': '/False', 'source': '../data/camcom_2.pdf', 'total_pages': 2, 'page': 0, 'page_label': '1', 'source_file': 'camcom_2.pdf', 'file_type': 'pdf'}, page_content=\"real-time pass/fail analytics.\\nTechnology & Capabilities\\n\\x7f Micro-defect detection (claims of detection down to ~50 microns in manufacturing contexts) \\x7f Industry-\\nagnostic models trained on large, customer-validated datasets \\x7f Integrations with cloud & edge compute,\\npartnerships with AWS/Intel/Nvidia noted in public materials\\nRecent News & Partnerships (selected)\\n\\x7f AI& launch (announced during CamCom's 8th anniversary celebrations) — positioned as a 24B-parameter LVM with\\ncombined LLM capabilities for predict/prescribe/prevent workflows. \\x7f Strategic partnership and global\\ndeployment with ERGO Group AG / ERGO Insurance for insurance-sector inspections and claims automation. \\x7f\\nMultiple regional deployments across Asia, Europe, Middle East and Mexico (per company news and press\\ncoverage).\\nAwards & Recognition\\n\\x7f Multiple startup and innovation recognitions in India and internationally (CamCom materials cite innovation\\nawards and industry recognitions such as NASSCOM-related listings).\"),\n",
       " Document(metadata={'producer': 'ReportLab PDF Library - www.reportlab.com', 'creator': 'ReportLab PDF Library - www.reportlab.com', 'creationdate': '2025-09-09T15:09:15+00:00', 'author': 'anonymous', 'keywords': '', 'moddate': '2025-09-09T15:09:15+00:00', 'subject': 'unspecified', 'title': 'untitled', 'trapped': '/False', 'source': '../data/camcom_2.pdf', 'total_pages': 2, 'page': 0, 'page_label': '1', 'source_file': 'camcom_2.pdf', 'file_type': 'pdf'}, page_content='Awards & Recognition\\n\\x7f Multiple startup and innovation recognitions in India and internationally (CamCom materials cite innovation\\nawards and industry recognitions such as NASSCOM-related listings).\\nCorporate & Registry Data\\nSources such as corporate registries and business-data platforms list the registered address, CIN, and company\\nstatus. The last reported AGM listed in public records was in 2024.\\nReferences (selected)\\nCamCom official site: https://camcom.ai CamCom — About / Resources / Contact pages (company website) Press\\ncoverage: Tribune India, PTI/Press Trust of India, CXOToday Business registries & profiles: Bloomberg LEI'),\n",
       " Document(metadata={'producer': 'ReportLab PDF Library - www.reportlab.com', 'creator': 'ReportLab PDF Library - www.reportlab.com', 'creationdate': '2025-09-09T15:09:15+00:00', 'author': 'anonymous', 'keywords': '', 'moddate': '2025-09-09T15:09:15+00:00', 'subject': 'unspecified', 'title': 'untitled', 'trapped': '/False', 'source': '../data/camcom_2.pdf', 'total_pages': 2, 'page': 1, 'page_label': '2', 'source_file': 'camcom_2.pdf', 'file_type': 'pdf'}, page_content='record, Zaubacorp, Tofler, Tracxn News/press releases linked with ERGO Group partnership and product launch\\ndetails.\\nGenerated PDF: CamCom Technologies Pvt Ltd — compiled by ChatGPT using public sources (Sep 9, 2025).'),\n",
       " Document(metadata={'producer': 'xdvipdfmx (20220710)', 'creator': 'LaTeX with hyperref', 'creationdate': '2025-09-09T15:04:36+00:00', 'source': '../data/camcom.pdf', 'total_pages': 5, 'page': 0, 'page_label': '1', 'source_file': 'camcom.pdf', 'file_type': 'pdf'}, page_content='CamCom Technologies Pvt. Ltd.\\nCompany Profile\\nAs of September 2025\\nCompiled by Grok, created by xAI\\nSource: Publicly available information from camcom.ai, IndiaFilings, ZaubaCorp, The\\nCompany Check, and other web sources.'),\n",
       " Document(metadata={'producer': 'xdvipdfmx (20220710)', 'creator': 'LaTeX with hyperref', 'creationdate': '2025-09-09T15:04:36+00:00', 'source': '../data/camcom.pdf', 'total_pages': 5, 'page': 1, 'page_label': '1', 'source_file': 'camcom.pdf', 'file_type': 'pdf'}, page_content='1 Company Overview\\nCamCom Technologies Pvt. Ltd. is a Bengaluru-based deep-tech startup special-\\nizing in AI-powered visual inspection platforms leveraging computer vision and\\ndeep learning technologies. Established on September 7, 2017, the company fo-\\ncuses on automating defect detection, damage assessment, and quality control\\nacross various industries. It is registered as a private limited, non-government\\ncompany under the Registrar of Companies (RoC), Bangalore, with the Corporate\\nIdentification Number (CIN) U74999KA2017PTC106196.\\n1.1 Key Details\\n• Registered Name: CamCom Technologies Private Limited\\n• Former Name: Gifto Retail Technologies Private Limited\\n• Incorporation Date: September 7, 2017\\n• Company Type: Private, Company Limited by Shares\\n• Registered Address: No. 70, 2nd Floor, 1st Cross, Shayadri Layout, Billeka-\\nhalli, Arakere, off Bannerghatta Road, Bangalore, Karnataka, India - 560076\\n• Email: umesh@camcom.ai\\n• Website: https://camcom.ai\\n• Listing Status: Unlisted'),\n",
       " Document(metadata={'producer': 'xdvipdfmx (20220710)', 'creator': 'LaTeX with hyperref', 'creationdate': '2025-09-09T15:04:36+00:00', 'source': '../data/camcom.pdf', 'total_pages': 5, 'page': 1, 'page_label': '1', 'source_file': 'camcom.pdf', 'file_type': 'pdf'}, page_content='halli, Arakere, off Bannerghatta Road, Bangalore, Karnataka, India - 560076\\n• Email: umesh@camcom.ai\\n• Website: https://camcom.ai\\n• Listing Status: Unlisted\\n• Company Status: Active (as of July 2023)\\n• NIC Code: 7499 (Other business activities n.e.c., service activities for com-\\nmercial clients)\\n2 Financial Information\\nCamCom Technologies Pvt. Ltd. operates with a modest financial structure, as\\nreported by various sources up to June 2025.\\n• Authorized Share Capital: ₹1,700,000\\n• Paid-up Capital: ₹1,078,045\\n• Open Charges: ₹5,000,000\\n• Satisfied Charges: ₹1,000,000\\n• Revenue Growth (FY 2023): 39.70%\\n• Profit Growth (FY 2023): -237.57%\\n• EBITDA (FY 2023): -235.77%\\n• Net Worth (FY 2023): 10.98%\\n• Total Assets Growth (FY 2023): 40.90%\\n• Last Annual General Meeting: September 27, 2024\\n1'),\n",
       " Document(metadata={'producer': 'xdvipdfmx (20220710)', 'creator': 'LaTeX with hyperref', 'creationdate': '2025-09-09T15:04:36+00:00', 'source': '../data/camcom.pdf', 'total_pages': 5, 'page': 2, 'page_label': '2', 'source_file': 'camcom.pdf', 'file_type': 'pdf'}, page_content='• Last Balance Sheet Filed: March 31, 2024\\n3 Technology and Solutions\\nCamCom is a pioneer in AI-driven visual inspection, utilizing its proprietary\\nLarge Vision Model (LVM), India’s first domain-specific AI engine trained on over\\n450 million validated images. The platform achieves up to 96% accuracy in dam-\\nage assessments and supports:\\n• Core Technologies: Deep learning, computer vision, semantic segmenta-\\ntion, transfer learning, and heatmap-based dent depth identification.\\n• Inspection Capabilities: Micro-level defect detection (down to 50 microns),\\nobject detection, and image classification.\\n• Deployment Modes: Custom hardware (e.g., deflectometry rigs for surface\\ndefects), smartphone-based guided inspections, and drone-based solutions\\nfor large-scale applications.\\n• Patented Innovations: Includes automated quality check rigs for automo-\\ntive and apparel industries, vehicle accident impact point determination,\\nand more (patents filed in India since 2023).'),\n",
       " Document(metadata={'producer': 'xdvipdfmx (20220710)', 'creator': 'LaTeX with hyperref', 'creationdate': '2025-09-09T15:04:36+00:00', 'source': '../data/camcom.pdf', 'total_pages': 5, 'page': 2, 'page_label': '2', 'source_file': 'camcom.pdf', 'file_type': 'pdf'}, page_content='• Patented Innovations: Includes automated quality check rigs for automo-\\ntive and apparel industries, vehicle accident impact point determination,\\nand more (patents filed in India since 2023).\\n4 Industries and Applications\\nCamCom’s industry-agnostic platform serves multiple sectors with tailored solu-\\ntions:\\n• Automotive: Pre-delivery inspections (PDI), roll-on/roll-off damage track-\\ning, and end-to-end vehicle audits for OEMs, dealerships, and fleet opera-\\ntors.\\n• Insurance: Rapid underwriting and claims processing (e.g., vehicle claims\\nsettled in under 5 minutes), pre-inspection for motor and homeowners’\\npolicies.\\n• Pharmaceuticals and Warehousing: Product-to-catalog matching, defect\\ndetection, and data comparisons for disposal.\\n• Fashion: Automated quality checks for apparel (in collaboration with Myn-\\ntra).\\n• Public Safety and Infrastructure: Monthly inspections of over 7 million\\nitems in Saudi Arabia, smart city monitoring with Vistas Global, and disas-\\nter response solutions.'),\n",
       " Document(metadata={'producer': 'xdvipdfmx (20220710)', 'creator': 'LaTeX with hyperref', 'creationdate': '2025-09-09T15:04:36+00:00', 'source': '../data/camcom.pdf', 'total_pages': 5, 'page': 2, 'page_label': '2', 'source_file': 'camcom.pdf', 'file_type': 'pdf'}, page_content='tra).\\n• Public Safety and Infrastructure: Monthly inspections of over 7 million\\nitems in Saudi Arabia, smart city monitoring with Vistas Global, and disas-\\nter response solutions.\\n• Other Sectors: Airlines, gas cylinder inspections, defense/civilian aircraft\\nmaintenance, and more.\\n2'),\n",
       " Document(metadata={'producer': 'xdvipdfmx (20220710)', 'creator': 'LaTeX with hyperref', 'creationdate': '2025-09-09T15:04:36+00:00', 'source': '../data/camcom.pdf', 'total_pages': 5, 'page': 3, 'page_label': '3', 'source_file': 'camcom.pdf', 'file_type': 'pdf'}, page_content='5 Leadership and Directors\\nThe company is led by a team of experienced directors, as reported by The Com-\\npany Check and ZaubaCorp (as of June 2025):\\n• Geetha Sham: Director (Appointed: July 26, 2023)\\n• Ajith Nayar: Director (Appointed: September 7, 2017)\\n• Subramanian Mahesh: Director (Appointed: August 30, 2019)\\n• Uma Mahesh: Director (Appointed: September 7, 2017)\\n• Pradyumna Dalmia: Director (Appointed: July 26, 2023)\\n• Past Director: Pramodkumar Bhurmal (Cessation: Unknown)\\n6 Partnerships and Achievements\\nCamCom has established significant partnerships and earned multiple accolades:\\n• Key Partnerships:\\n– Myntra: Automated quality control for apparel.\\n– HDFC ERGO and Zurich: Insurance underwriting and claims.\\n– ERGO Group: 2025 rollout in Baltic states for European insurance mar-\\nkets.\\n– Guidewire and Duck Creek: Integration for vehicle damage estimation.\\n– Vistas Global: Smart city AI solutions.\\n• Awards and Recognition:'),\n",
       " Document(metadata={'producer': 'xdvipdfmx (20220710)', 'creator': 'LaTeX with hyperref', 'creationdate': '2025-09-09T15:04:36+00:00', 'source': '../data/camcom.pdf', 'total_pages': 5, 'page': 3, 'page_label': '3', 'source_file': 'camcom.pdf', 'file_type': 'pdf'}, page_content='kets.\\n– Guidewire and Duck Creek: Integration for vehicle damage estimation.\\n– Vistas Global: Smart city AI solutions.\\n• Awards and Recognition:\\n– Top Startup by Government of India, NASSCOM, Mahindra Mobility,\\nand Intel Startup Program.\\n– Aegis Graham Bell Award for Innovation in Insurance (2025).\\n• Global Presence: Offices in Dubai, Munich, and Düsseldorf, with a val-\\nuation of $4.13M after raising $1.74M across 6 funding rounds (investors\\ninclude Triton Investment Advisors).\\n• Recent Milestones (2025): Launched “AI&” (Large Vision Model platform),\\npublished a book on aircraft maintenance solutions, and celebrated 8 years\\nwith events attended by dignitaries like MP Sasmit Patra.\\n7 Commitment to Sustainability\\nCamCom aligns with global sustainability goals, supporting UN Sustainable De-\\nvelopment Goals through initiatives like migrant worker upliftment and disaster\\nresponse. Their solutions reduce manual errors, enhance efficiency, and pro-'),\n",
       " Document(metadata={'producer': 'xdvipdfmx (20220710)', 'creator': 'LaTeX with hyperref', 'creationdate': '2025-09-09T15:04:36+00:00', 'source': '../data/camcom.pdf', 'total_pages': 5, 'page': 3, 'page_label': '3', 'source_file': 'camcom.pdf', 'file_type': 'pdf'}, page_content='velopment Goals through initiatives like migrant worker upliftment and disaster\\nresponse. Their solutions reduce manual errors, enhance efficiency, and pro-\\nmote eco-friendly processes in industries like automotive and insurance.\\n3'),\n",
       " Document(metadata={'producer': 'xdvipdfmx (20220710)', 'creator': 'LaTeX with hyperref', 'creationdate': '2025-09-09T15:04:36+00:00', 'source': '../data/camcom.pdf', 'total_pages': 5, 'page': 4, 'page_label': '4', 'source_file': 'camcom.pdf', 'file_type': 'pdf'}, page_content='8 Contact Information\\n• Email: umesh@camcom.ai\\n• Telephone: Available upon request via official channels\\n• Website: https://camcom.ai\\n• Social Media: LinkedIn (https://in.linkedin.com/company/camcom),\\nX\\n• Registered Office: No. 70, 2nd Floor, 1st Cross, Shayadri Layout, Billeka-\\nhalli, Arakere, off Bannerghatta Road, Bangalore, Karnataka, India - 560076\\n4')]"
      ]
     },
     "execution_count": 54,
     "metadata": {},
     "output_type": "execute_result"
    }
   ],
   "source": [
    "chunks = split_documents(all_pdf_documents)\n",
    "chunks"
   ]
  },
  {
   "cell_type": "code",
   "execution_count": 55,
   "metadata": {},
   "outputs": [],
   "source": [
    "### embedding\n",
    "import numpy as np\n",
    "from sentence_transformers import SentenceTransformer\n",
    "import chromadb\n",
    "from chromadb.config import Settings\n",
    "import uuid\n",
    "from typing import List, Dict, Any, Tuple\n",
    "from sklearn.metrics.pairwise import cosine_similarity"
   ]
  },
  {
   "cell_type": "code",
   "execution_count": 56,
   "metadata": {},
   "outputs": [
    {
     "name": "stdout",
     "output_type": "stream",
     "text": [
      "Model loaded successfully. Embedding dimension: 384\n"
     ]
    },
    {
     "data": {
      "text/plain": [
       "<__main__.EmbeddingManager at 0x167bf30e0>"
      ]
     },
     "execution_count": 56,
     "metadata": {},
     "output_type": "execute_result"
    }
   ],
   "source": [
    "class EmbeddingManager:\n",
    "\n",
    "    def __init__(self, model_name: str = \"all-MiniLM-L6-v2\"):\n",
    "        self.model_name = model_name\n",
    "        self.model = None\n",
    "        self._load_model()\n",
    "\n",
    "    def _load_model(self):\n",
    "        try:\n",
    "            self.model = SentenceTransformer(self.model_name)\n",
    "            print(f\"Model loaded successfully. Embedding dimension: {self.model.get_sentence_embedding_dimension()}\")\n",
    "        except Exception as e:\n",
    "            print(f\"Error loading model {self.model_name}: {e}\")\n",
    "            raise\n",
    "\n",
    "\n",
    "    def generate_embeddings(self, texts: List[str]) -> np.ndarray:\n",
    "\n",
    "        if not self.model:\n",
    "            raise ValueError(\"Model not loaded\")\n",
    "        \n",
    "        embeddings = self.model.encode(texts, show_progress_bar=True)\n",
    "        print(f\"Generated embeddings with shape: {embeddings.shape}\")\n",
    "        return embeddings\n",
    "\n",
    "embeddings_manager = EmbeddingManager()\n",
    "embeddings_manager\n",
    "    "
   ]
  },
  {
   "cell_type": "code",
   "execution_count": 58,
   "metadata": {},
   "outputs": [
    {
     "name": "stdout",
     "output_type": "stream",
     "text": [
      "Vector store initialized. Collection: pdf_documents\n",
      "Existing documents in collection: 30\n"
     ]
    },
    {
     "data": {
      "text/plain": [
       "<__main__.VectorStore at 0x167c75550>"
      ]
     },
     "execution_count": 58,
     "metadata": {},
     "output_type": "execute_result"
    }
   ],
   "source": [
    "class VectorStore:\n",
    "    def __init__(self, collection_name: str = \"pdf_documents\", persist_directory: str = \"../data/vector_store\"):\n",
    "\n",
    "        self.collection_name = collection_name\n",
    "        self.persist_directory = persist_directory\n",
    "        self.client = None\n",
    "        self.collection = None\n",
    "        self._initialize_store()\n",
    "\n",
    "    def _initialize_store(self):\n",
    "        try:\n",
    "            os.makedirs(self.persist_directory, exist_ok=True)\n",
    "            self.client = chromadb.PersistentClient(path=self.persist_directory)\n",
    "\n",
    "            self.collection = self.client.get_or_create_collection(\n",
    "                name=self.collection_name,\n",
    "                metadata={\"description\": \"PDF document embeddings for RAG\"}\n",
    "            )\n",
    "\n",
    "            print(f\"Vector store initialized. Collection: {self.collection_name}\")\n",
    "            print(f\"Existing documents in collection: {self.collection.count()}\")\n",
    "\n",
    "        except Exception as e:\n",
    "            print(f\"Error initializing vector store: {e}\")\n",
    "            raise\n",
    "    def add_documents(self, documents: List[Any], embeddings: np.ndarray):\n",
    "        \n",
    "        if len(documents) != len(embeddings):\n",
    "            raise ValueError(\"Number of documents must match number of embeddings\")\n",
    "        \n",
    "        ids = []\n",
    "        metadatas = []\n",
    "        documents_text = []\n",
    "        embeddings_list = []\n",
    "\n",
    "        for i, (doc, embedding) in enumerate(zip(documents, embeddings)):\n",
    "\n",
    "            doc_id = f\"doc_{uuid.uuid4().hex[:8]}_{i}\"\n",
    "            ids.append(doc_id)\n",
    "\n",
    "            metadata = dict(doc.metadata)\n",
    "            metadata['doc_index'] = i\n",
    "            metadata['content_length'] = len(doc.page_content)\n",
    "            metadatas.append(metadata)\n",
    "\n",
    "            documents_text.append(doc.page_content)\n",
    "            embeddings_list.append(embedding.tolist())\n",
    "\n",
    "            try:\n",
    "                self.collection.add(\n",
    "                    ids=ids,\n",
    "                    embeddings=embeddings_list,\n",
    "                    metadatas=metadatas,\n",
    "                    documents=documents_text\n",
    "                )\n",
    "            except Exception as e:\n",
    "                print(f\"Error adding documents to vector store: {e}\")\n",
    "                raise\n",
    "\n",
    "vector_store = VectorStore()\n",
    "vector_store"
   ]
  },
  {
   "cell_type": "code",
   "execution_count": 59,
   "metadata": {},
   "outputs": [
    {
     "data": {
      "text/plain": [
       "[Document(metadata={'producer': 'ReportLab PDF Library - www.reportlab.com', 'creator': 'ReportLab PDF Library - www.reportlab.com', 'creationdate': '2025-09-09T15:09:15+00:00', 'author': 'anonymous', 'keywords': '', 'moddate': '2025-09-09T15:09:15+00:00', 'subject': 'unspecified', 'title': 'untitled', 'trapped': '/False', 'source': '../data/camcom_2.pdf', 'total_pages': 2, 'page': 0, 'page_label': '1', 'source_file': 'camcom_2.pdf', 'file_type': 'pdf'}, page_content='CamCom Technologies Pvt Ltd — Company Profile\\nExecutive Summary\\nCamCom Technologies Pvt Ltd (CamCom) is a Bengaluru-based, award-winning, industry-agnostic deep-learning\\ncomputer vision company that provides visual inspection and damage/defect assessment solutions across\\nautomotive, insurance, manufacturing, logistics and other sectors. They have developed large vision models for\\nsurface-agnostic defect assessment and offer cloud & mobile-enabled deployments for both manufacturing and\\naftermarket workflows.\\nKey Facts\\nLegal name: CamCom Technologies Private Limited CIN: U74999KA2017PTC106196 Headquarters: No.70, 2nd Floor, 1st\\nCross, Shayadri Layout Billekahalli, Arakere, off Bannerghatta Road, Bangalore 560076, India Founded: 2017\\n(company sources and profiles list founders and early dates) Website: https://camcom.ai\\nLeadership & Founders\\nAjith Nayar — Co-founder & CEO Uma (Umesh) Mahesh — Co-founder & President (Americas) Mahesh Subramanian — Co-'),\n",
       " Document(metadata={'producer': 'ReportLab PDF Library - www.reportlab.com', 'creator': 'ReportLab PDF Library - www.reportlab.com', 'creationdate': '2025-09-09T15:09:15+00:00', 'author': 'anonymous', 'keywords': '', 'moddate': '2025-09-09T15:09:15+00:00', 'subject': 'unspecified', 'title': 'untitled', 'trapped': '/False', 'source': '../data/camcom_2.pdf', 'total_pages': 2, 'page': 0, 'page_label': '1', 'source_file': 'camcom_2.pdf', 'file_type': 'pdf'}, page_content='Leadership & Founders\\nAjith Nayar — Co-founder & CEO Uma (Umesh) Mahesh — Co-founder & President (Americas) Mahesh Subramanian — Co-\\nfounder & President (APAC) Geetha Sham — Director & President (Europe) Other founders/executives reported in\\ncompany profiles and startup databases.\\nProducts & Solutions\\n\\x7f Large Vision Models (LVM) for surface-agnostic defect and damage assessment \\x7f AI& (flagship LVM + LLM hybrid\\n— announced at their 8th anniversary launch) \\x7f Automated visual inspection for automotive OEM (end-of-line),\\nfinished-vehicle logistics (PDIs), insurance claims automation, aerospace inspections, warehousing & pharma\\nfinal inspection \\x7f Mobile apps and cloud services for inspection workflows, OCR for labels and documents, and\\nreal-time pass/fail analytics.\\nTechnology & Capabilities\\n\\x7f Micro-defect detection (claims of detection down to ~50 microns in manufacturing contexts) \\x7f Industry-'),\n",
       " Document(metadata={'producer': 'ReportLab PDF Library - www.reportlab.com', 'creator': 'ReportLab PDF Library - www.reportlab.com', 'creationdate': '2025-09-09T15:09:15+00:00', 'author': 'anonymous', 'keywords': '', 'moddate': '2025-09-09T15:09:15+00:00', 'subject': 'unspecified', 'title': 'untitled', 'trapped': '/False', 'source': '../data/camcom_2.pdf', 'total_pages': 2, 'page': 0, 'page_label': '1', 'source_file': 'camcom_2.pdf', 'file_type': 'pdf'}, page_content=\"real-time pass/fail analytics.\\nTechnology & Capabilities\\n\\x7f Micro-defect detection (claims of detection down to ~50 microns in manufacturing contexts) \\x7f Industry-\\nagnostic models trained on large, customer-validated datasets \\x7f Integrations with cloud & edge compute,\\npartnerships with AWS/Intel/Nvidia noted in public materials\\nRecent News & Partnerships (selected)\\n\\x7f AI& launch (announced during CamCom's 8th anniversary celebrations) — positioned as a 24B-parameter LVM with\\ncombined LLM capabilities for predict/prescribe/prevent workflows. \\x7f Strategic partnership and global\\ndeployment with ERGO Group AG / ERGO Insurance for insurance-sector inspections and claims automation. \\x7f\\nMultiple regional deployments across Asia, Europe, Middle East and Mexico (per company news and press\\ncoverage).\\nAwards & Recognition\\n\\x7f Multiple startup and innovation recognitions in India and internationally (CamCom materials cite innovation\\nawards and industry recognitions such as NASSCOM-related listings).\"),\n",
       " Document(metadata={'producer': 'ReportLab PDF Library - www.reportlab.com', 'creator': 'ReportLab PDF Library - www.reportlab.com', 'creationdate': '2025-09-09T15:09:15+00:00', 'author': 'anonymous', 'keywords': '', 'moddate': '2025-09-09T15:09:15+00:00', 'subject': 'unspecified', 'title': 'untitled', 'trapped': '/False', 'source': '../data/camcom_2.pdf', 'total_pages': 2, 'page': 0, 'page_label': '1', 'source_file': 'camcom_2.pdf', 'file_type': 'pdf'}, page_content='Awards & Recognition\\n\\x7f Multiple startup and innovation recognitions in India and internationally (CamCom materials cite innovation\\nawards and industry recognitions such as NASSCOM-related listings).\\nCorporate & Registry Data\\nSources such as corporate registries and business-data platforms list the registered address, CIN, and company\\nstatus. The last reported AGM listed in public records was in 2024.\\nReferences (selected)\\nCamCom official site: https://camcom.ai CamCom — About / Resources / Contact pages (company website) Press\\ncoverage: Tribune India, PTI/Press Trust of India, CXOToday Business registries & profiles: Bloomberg LEI'),\n",
       " Document(metadata={'producer': 'ReportLab PDF Library - www.reportlab.com', 'creator': 'ReportLab PDF Library - www.reportlab.com', 'creationdate': '2025-09-09T15:09:15+00:00', 'author': 'anonymous', 'keywords': '', 'moddate': '2025-09-09T15:09:15+00:00', 'subject': 'unspecified', 'title': 'untitled', 'trapped': '/False', 'source': '../data/camcom_2.pdf', 'total_pages': 2, 'page': 1, 'page_label': '2', 'source_file': 'camcom_2.pdf', 'file_type': 'pdf'}, page_content='record, Zaubacorp, Tofler, Tracxn News/press releases linked with ERGO Group partnership and product launch\\ndetails.\\nGenerated PDF: CamCom Technologies Pvt Ltd — compiled by ChatGPT using public sources (Sep 9, 2025).'),\n",
       " Document(metadata={'producer': 'xdvipdfmx (20220710)', 'creator': 'LaTeX with hyperref', 'creationdate': '2025-09-09T15:04:36+00:00', 'source': '../data/camcom.pdf', 'total_pages': 5, 'page': 0, 'page_label': '1', 'source_file': 'camcom.pdf', 'file_type': 'pdf'}, page_content='CamCom Technologies Pvt. Ltd.\\nCompany Profile\\nAs of September 2025\\nCompiled by Grok, created by xAI\\nSource: Publicly available information from camcom.ai, IndiaFilings, ZaubaCorp, The\\nCompany Check, and other web sources.'),\n",
       " Document(metadata={'producer': 'xdvipdfmx (20220710)', 'creator': 'LaTeX with hyperref', 'creationdate': '2025-09-09T15:04:36+00:00', 'source': '../data/camcom.pdf', 'total_pages': 5, 'page': 1, 'page_label': '1', 'source_file': 'camcom.pdf', 'file_type': 'pdf'}, page_content='1 Company Overview\\nCamCom Technologies Pvt. Ltd. is a Bengaluru-based deep-tech startup special-\\nizing in AI-powered visual inspection platforms leveraging computer vision and\\ndeep learning technologies. Established on September 7, 2017, the company fo-\\ncuses on automating defect detection, damage assessment, and quality control\\nacross various industries. It is registered as a private limited, non-government\\ncompany under the Registrar of Companies (RoC), Bangalore, with the Corporate\\nIdentification Number (CIN) U74999KA2017PTC106196.\\n1.1 Key Details\\n• Registered Name: CamCom Technologies Private Limited\\n• Former Name: Gifto Retail Technologies Private Limited\\n• Incorporation Date: September 7, 2017\\n• Company Type: Private, Company Limited by Shares\\n• Registered Address: No. 70, 2nd Floor, 1st Cross, Shayadri Layout, Billeka-\\nhalli, Arakere, off Bannerghatta Road, Bangalore, Karnataka, India - 560076\\n• Email: umesh@camcom.ai\\n• Website: https://camcom.ai\\n• Listing Status: Unlisted'),\n",
       " Document(metadata={'producer': 'xdvipdfmx (20220710)', 'creator': 'LaTeX with hyperref', 'creationdate': '2025-09-09T15:04:36+00:00', 'source': '../data/camcom.pdf', 'total_pages': 5, 'page': 1, 'page_label': '1', 'source_file': 'camcom.pdf', 'file_type': 'pdf'}, page_content='halli, Arakere, off Bannerghatta Road, Bangalore, Karnataka, India - 560076\\n• Email: umesh@camcom.ai\\n• Website: https://camcom.ai\\n• Listing Status: Unlisted\\n• Company Status: Active (as of July 2023)\\n• NIC Code: 7499 (Other business activities n.e.c., service activities for com-\\nmercial clients)\\n2 Financial Information\\nCamCom Technologies Pvt. Ltd. operates with a modest financial structure, as\\nreported by various sources up to June 2025.\\n• Authorized Share Capital: ₹1,700,000\\n• Paid-up Capital: ₹1,078,045\\n• Open Charges: ₹5,000,000\\n• Satisfied Charges: ₹1,000,000\\n• Revenue Growth (FY 2023): 39.70%\\n• Profit Growth (FY 2023): -237.57%\\n• EBITDA (FY 2023): -235.77%\\n• Net Worth (FY 2023): 10.98%\\n• Total Assets Growth (FY 2023): 40.90%\\n• Last Annual General Meeting: September 27, 2024\\n1'),\n",
       " Document(metadata={'producer': 'xdvipdfmx (20220710)', 'creator': 'LaTeX with hyperref', 'creationdate': '2025-09-09T15:04:36+00:00', 'source': '../data/camcom.pdf', 'total_pages': 5, 'page': 2, 'page_label': '2', 'source_file': 'camcom.pdf', 'file_type': 'pdf'}, page_content='• Last Balance Sheet Filed: March 31, 2024\\n3 Technology and Solutions\\nCamCom is a pioneer in AI-driven visual inspection, utilizing its proprietary\\nLarge Vision Model (LVM), India’s first domain-specific AI engine trained on over\\n450 million validated images. The platform achieves up to 96% accuracy in dam-\\nage assessments and supports:\\n• Core Technologies: Deep learning, computer vision, semantic segmenta-\\ntion, transfer learning, and heatmap-based dent depth identification.\\n• Inspection Capabilities: Micro-level defect detection (down to 50 microns),\\nobject detection, and image classification.\\n• Deployment Modes: Custom hardware (e.g., deflectometry rigs for surface\\ndefects), smartphone-based guided inspections, and drone-based solutions\\nfor large-scale applications.\\n• Patented Innovations: Includes automated quality check rigs for automo-\\ntive and apparel industries, vehicle accident impact point determination,\\nand more (patents filed in India since 2023).'),\n",
       " Document(metadata={'producer': 'xdvipdfmx (20220710)', 'creator': 'LaTeX with hyperref', 'creationdate': '2025-09-09T15:04:36+00:00', 'source': '../data/camcom.pdf', 'total_pages': 5, 'page': 2, 'page_label': '2', 'source_file': 'camcom.pdf', 'file_type': 'pdf'}, page_content='• Patented Innovations: Includes automated quality check rigs for automo-\\ntive and apparel industries, vehicle accident impact point determination,\\nand more (patents filed in India since 2023).\\n4 Industries and Applications\\nCamCom’s industry-agnostic platform serves multiple sectors with tailored solu-\\ntions:\\n• Automotive: Pre-delivery inspections (PDI), roll-on/roll-off damage track-\\ning, and end-to-end vehicle audits for OEMs, dealerships, and fleet opera-\\ntors.\\n• Insurance: Rapid underwriting and claims processing (e.g., vehicle claims\\nsettled in under 5 minutes), pre-inspection for motor and homeowners’\\npolicies.\\n• Pharmaceuticals and Warehousing: Product-to-catalog matching, defect\\ndetection, and data comparisons for disposal.\\n• Fashion: Automated quality checks for apparel (in collaboration with Myn-\\ntra).\\n• Public Safety and Infrastructure: Monthly inspections of over 7 million\\nitems in Saudi Arabia, smart city monitoring with Vistas Global, and disas-\\nter response solutions.'),\n",
       " Document(metadata={'producer': 'xdvipdfmx (20220710)', 'creator': 'LaTeX with hyperref', 'creationdate': '2025-09-09T15:04:36+00:00', 'source': '../data/camcom.pdf', 'total_pages': 5, 'page': 2, 'page_label': '2', 'source_file': 'camcom.pdf', 'file_type': 'pdf'}, page_content='tra).\\n• Public Safety and Infrastructure: Monthly inspections of over 7 million\\nitems in Saudi Arabia, smart city monitoring with Vistas Global, and disas-\\nter response solutions.\\n• Other Sectors: Airlines, gas cylinder inspections, defense/civilian aircraft\\nmaintenance, and more.\\n2'),\n",
       " Document(metadata={'producer': 'xdvipdfmx (20220710)', 'creator': 'LaTeX with hyperref', 'creationdate': '2025-09-09T15:04:36+00:00', 'source': '../data/camcom.pdf', 'total_pages': 5, 'page': 3, 'page_label': '3', 'source_file': 'camcom.pdf', 'file_type': 'pdf'}, page_content='5 Leadership and Directors\\nThe company is led by a team of experienced directors, as reported by The Com-\\npany Check and ZaubaCorp (as of June 2025):\\n• Geetha Sham: Director (Appointed: July 26, 2023)\\n• Ajith Nayar: Director (Appointed: September 7, 2017)\\n• Subramanian Mahesh: Director (Appointed: August 30, 2019)\\n• Uma Mahesh: Director (Appointed: September 7, 2017)\\n• Pradyumna Dalmia: Director (Appointed: July 26, 2023)\\n• Past Director: Pramodkumar Bhurmal (Cessation: Unknown)\\n6 Partnerships and Achievements\\nCamCom has established significant partnerships and earned multiple accolades:\\n• Key Partnerships:\\n– Myntra: Automated quality control for apparel.\\n– HDFC ERGO and Zurich: Insurance underwriting and claims.\\n– ERGO Group: 2025 rollout in Baltic states for European insurance mar-\\nkets.\\n– Guidewire and Duck Creek: Integration for vehicle damage estimation.\\n– Vistas Global: Smart city AI solutions.\\n• Awards and Recognition:'),\n",
       " Document(metadata={'producer': 'xdvipdfmx (20220710)', 'creator': 'LaTeX with hyperref', 'creationdate': '2025-09-09T15:04:36+00:00', 'source': '../data/camcom.pdf', 'total_pages': 5, 'page': 3, 'page_label': '3', 'source_file': 'camcom.pdf', 'file_type': 'pdf'}, page_content='kets.\\n– Guidewire and Duck Creek: Integration for vehicle damage estimation.\\n– Vistas Global: Smart city AI solutions.\\n• Awards and Recognition:\\n– Top Startup by Government of India, NASSCOM, Mahindra Mobility,\\nand Intel Startup Program.\\n– Aegis Graham Bell Award for Innovation in Insurance (2025).\\n• Global Presence: Offices in Dubai, Munich, and Düsseldorf, with a val-\\nuation of $4.13M after raising $1.74M across 6 funding rounds (investors\\ninclude Triton Investment Advisors).\\n• Recent Milestones (2025): Launched “AI&” (Large Vision Model platform),\\npublished a book on aircraft maintenance solutions, and celebrated 8 years\\nwith events attended by dignitaries like MP Sasmit Patra.\\n7 Commitment to Sustainability\\nCamCom aligns with global sustainability goals, supporting UN Sustainable De-\\nvelopment Goals through initiatives like migrant worker upliftment and disaster\\nresponse. Their solutions reduce manual errors, enhance efficiency, and pro-'),\n",
       " Document(metadata={'producer': 'xdvipdfmx (20220710)', 'creator': 'LaTeX with hyperref', 'creationdate': '2025-09-09T15:04:36+00:00', 'source': '../data/camcom.pdf', 'total_pages': 5, 'page': 3, 'page_label': '3', 'source_file': 'camcom.pdf', 'file_type': 'pdf'}, page_content='velopment Goals through initiatives like migrant worker upliftment and disaster\\nresponse. Their solutions reduce manual errors, enhance efficiency, and pro-\\nmote eco-friendly processes in industries like automotive and insurance.\\n3'),\n",
       " Document(metadata={'producer': 'xdvipdfmx (20220710)', 'creator': 'LaTeX with hyperref', 'creationdate': '2025-09-09T15:04:36+00:00', 'source': '../data/camcom.pdf', 'total_pages': 5, 'page': 4, 'page_label': '4', 'source_file': 'camcom.pdf', 'file_type': 'pdf'}, page_content='8 Contact Information\\n• Email: umesh@camcom.ai\\n• Telephone: Available upon request via official channels\\n• Website: https://camcom.ai\\n• Social Media: LinkedIn (https://in.linkedin.com/company/camcom),\\nX\\n• Registered Office: No. 70, 2nd Floor, 1st Cross, Shayadri Layout, Billeka-\\nhalli, Arakere, off Bannerghatta Road, Bangalore, Karnataka, India - 560076\\n4')]"
      ]
     },
     "execution_count": 59,
     "metadata": {},
     "output_type": "execute_result"
    }
   ],
   "source": [
    "chunks"
   ]
  },
  {
   "cell_type": "code",
   "execution_count": 60,
   "metadata": {},
   "outputs": [
    {
     "name": "stderr",
     "output_type": "stream",
     "text": [
      "Batches: 100%|██████████| 1/1 [00:00<00:00,  7.81it/s]\n"
     ]
    },
    {
     "name": "stdout",
     "output_type": "stream",
     "text": [
      "Generated embeddings with shape: (15, 384)\n"
     ]
    }
   ],
   "source": [
    "texts = [doc.page_content for doc in chunks]\n",
    "\n",
    "embeddings = embeddings_manager.generate_embeddings(texts)\n",
    "\n",
    "vector_store.add_documents(chunks, embeddings)"
   ]
  },
  {
   "cell_type": "code",
   "execution_count": 62,
   "metadata": {},
   "outputs": [],
   "source": [
    "# ## retriever pipeline from vector store\n",
    "\n",
    "class RAGRetriever:\n",
    "    def __init__(self, vector_store=VectorStore, embeddings_manager=EmbeddingManager):\n",
    "\n",
    "        self.vector_store=vector_store\n",
    "        self.embeddings_manager=embeddings_manager\n",
    "\n",
    "    def retrieve(self, query: str, top_k: int = 5, score_threshold: float = 0.0) -> List[Dict[str, Any]]:\n",
    "        \n",
    "        query_embedding = self.embeddings_manager.generate_embeddings([query])[0]\n",
    "\n",
    "        try:\n",
    "            results = self.vector_store.collection.query(\n",
    "                query_embeddings=[query_embedding.tolist()],\n",
    "                n_results=top_k\n",
    "            )\n",
    "\n",
    "            retrieved_docs = []\n",
    "\n",
    "            if results['documents'] and results['documents'][0]:\n",
    "                documents = results['documents'][0]\n",
    "                metadatas = results['metadatas'][0]\n",
    "                distances = results['distances'][0]\n",
    "                ids = results['ids'][0]\n",
    "\n",
    "                for i, (doc,meta,dist,id) in enumerate(zip(documents, metadatas, distances, ids)):\n",
    "\n",
    "                    similarity_score = 1 - dist\n",
    "\n",
    "                    if similarity_score >= score_threshold:\n",
    "                        retrieved_docs.append(\n",
    "                            {\n",
    "                                'id': id,\n",
    "                                'content': doc,\n",
    "                                'metadata': meta,\n",
    "                                'similarity_score': similarity_score,\n",
    "                                'distance': dist,\n",
    "                                'rank': i + 1\n",
    "                            }\n",
    "                        )\n",
    "                print(f\"Retrieved {len(retrieved_docs)} documents (after filtering)\")\n",
    "\n",
    "            else:\n",
    "                print(\"No documents found\")\n",
    "\n",
    "            return retrieved_docs\n",
    "\n",
    "        except Exception as e:\n",
    "            print(f\"Error during retrieval: {e}\")\n",
    "            return []\n",
    "\n",
    "rag_retriever = RAGRetriever(vector_store, embeddings_manager)"
   ]
  },
  {
   "cell_type": "code",
   "execution_count": 63,
   "metadata": {},
   "outputs": [
    {
     "data": {
      "text/plain": [
       "<__main__.RAGRetriever at 0x167c75160>"
      ]
     },
     "execution_count": 63,
     "metadata": {},
     "output_type": "execute_result"
    }
   ],
   "source": [
    "rag_retriever"
   ]
  },
  {
   "cell_type": "code",
   "execution_count": 64,
   "metadata": {},
   "outputs": [
    {
     "name": "stderr",
     "output_type": "stream",
     "text": [
      "Batches: 100%|██████████| 1/1 [00:00<00:00, 24.27it/s]"
     ]
    },
    {
     "name": "stdout",
     "output_type": "stream",
     "text": [
      "Generated embeddings with shape: (1, 384)\n",
      "Retrieved 5 documents (after filtering)\n"
     ]
    },
    {
     "name": "stderr",
     "output_type": "stream",
     "text": [
      "\n"
     ]
    },
    {
     "data": {
      "text/plain": [
       "[{'id': 'doc_a5e9698f_7',\n",
       "  'content': 'halli, Arakere, off Bannerghatta Road, Bangalore, Karnataka, India - 560076\\n• Email: umesh@camcom.ai\\n• Website: https://camcom.ai\\n• Listing Status: Unlisted\\n• Company Status: Active (as of July 2023)\\n• NIC Code: 7499 (Other business activities n.e.c., service activities for com-\\nmercial clients)\\n2 Financial Information\\nCamCom Technologies Pvt. Ltd. operates with a modest financial structure, as\\nreported by various sources up to June 2025.\\n• Authorized Share Capital: ₹1,700,000\\n• Paid-up Capital: ₹1,078,045\\n• Open Charges: ₹5,000,000\\n• Satisfied Charges: ₹1,000,000\\n• Revenue Growth (FY 2023): 39.70%\\n• Profit Growth (FY 2023): -237.57%\\n• EBITDA (FY 2023): -235.77%\\n• Net Worth (FY 2023): 10.98%\\n• Total Assets Growth (FY 2023): 40.90%\\n• Last Annual General Meeting: September 27, 2024\\n1',\n",
       "  'metadata': {'source_file': 'camcom.pdf',\n",
       "   'source': '../data/camcom.pdf',\n",
       "   'page': 1,\n",
       "   'creator': 'LaTeX with hyperref',\n",
       "   'creationdate': '2025-09-09T15:04:36+00:00',\n",
       "   'producer': 'xdvipdfmx (20220710)',\n",
       "   'doc_index': 7,\n",
       "   'total_pages': 5,\n",
       "   'content_length': 792,\n",
       "   'file_type': 'pdf',\n",
       "   'page_label': '1'},\n",
       "  'similarity_score': 0.2729470729827881,\n",
       "  'distance': 0.7270529270172119,\n",
       "  'rank': 1},\n",
       " {'id': 'doc_99890774_7',\n",
       "  'content': 'halli, Arakere, off Bannerghatta Road, Bangalore, Karnataka, India - 560076\\n• Email: umesh@camcom.ai\\n• Website: https://camcom.ai\\n• Listing Status: Unlisted\\n• Company Status: Active (as of July 2023)\\n• NIC Code: 7499 (Other business activities n.e.c., service activities for com-\\nmercial clients)\\n2 Financial Information\\nCamCom Technologies Pvt. Ltd. operates with a modest financial structure, as\\nreported by various sources up to June 2025.\\n• Authorized Share Capital: ₹1,700,000\\n• Paid-up Capital: ₹1,078,045\\n• Open Charges: ₹5,000,000\\n• Satisfied Charges: ₹1,000,000\\n• Revenue Growth (FY 2023): 39.70%\\n• Profit Growth (FY 2023): -237.57%\\n• EBITDA (FY 2023): -235.77%\\n• Net Worth (FY 2023): 10.98%\\n• Total Assets Growth (FY 2023): 40.90%\\n• Last Annual General Meeting: September 27, 2024\\n1',\n",
       "  'metadata': {'creationdate': '2025-09-09T15:04:36+00:00',\n",
       "   'page': 1,\n",
       "   'page_label': '1',\n",
       "   'source': '../data/camcom.pdf',\n",
       "   'producer': 'xdvipdfmx (20220710)',\n",
       "   'content_length': 792,\n",
       "   'doc_index': 7,\n",
       "   'source_file': 'camcom.pdf',\n",
       "   'total_pages': 5,\n",
       "   'file_type': 'pdf',\n",
       "   'creator': 'LaTeX with hyperref'},\n",
       "  'similarity_score': 0.2729470729827881,\n",
       "  'distance': 0.7270529270172119,\n",
       "  'rank': 2},\n",
       " {'id': 'doc_21289757_7',\n",
       "  'content': 'halli, Arakere, off Bannerghatta Road, Bangalore, Karnataka, India - 560076\\n• Email: umesh@camcom.ai\\n• Website: https://camcom.ai\\n• Listing Status: Unlisted\\n• Company Status: Active (as of July 2023)\\n• NIC Code: 7499 (Other business activities n.e.c., service activities for com-\\nmercial clients)\\n2 Financial Information\\nCamCom Technologies Pvt. Ltd. operates with a modest financial structure, as\\nreported by various sources up to June 2025.\\n• Authorized Share Capital: ₹1,700,000\\n• Paid-up Capital: ₹1,078,045\\n• Open Charges: ₹5,000,000\\n• Satisfied Charges: ₹1,000,000\\n• Revenue Growth (FY 2023): 39.70%\\n• Profit Growth (FY 2023): -237.57%\\n• EBITDA (FY 2023): -235.77%\\n• Net Worth (FY 2023): 10.98%\\n• Total Assets Growth (FY 2023): 40.90%\\n• Last Annual General Meeting: September 27, 2024\\n1',\n",
       "  'metadata': {'creator': 'LaTeX with hyperref',\n",
       "   'total_pages': 5,\n",
       "   'content_length': 792,\n",
       "   'page_label': '1',\n",
       "   'source': '../data/camcom.pdf',\n",
       "   'producer': 'xdvipdfmx (20220710)',\n",
       "   'creationdate': '2025-09-09T15:04:36+00:00',\n",
       "   'page': 1,\n",
       "   'doc_index': 7,\n",
       "   'source_file': 'camcom.pdf',\n",
       "   'file_type': 'pdf'},\n",
       "  'similarity_score': 0.2729470729827881,\n",
       "  'distance': 0.7270529270172119,\n",
       "  'rank': 3},\n",
       " {'id': 'doc_41041e4a_5',\n",
       "  'content': 'CamCom Technologies Pvt. Ltd.\\nCompany Profile\\nAs of September 2025\\nCompiled by Grok, created by xAI\\nSource: Publicly available information from camcom.ai, IndiaFilings, ZaubaCorp, The\\nCompany Check, and other web sources.',\n",
       "  'metadata': {'content_length': 221,\n",
       "   'creationdate': '2025-09-09T15:04:36+00:00',\n",
       "   'file_type': 'pdf',\n",
       "   'creator': 'LaTeX with hyperref',\n",
       "   'page_label': '1',\n",
       "   'producer': 'xdvipdfmx (20220710)',\n",
       "   'page': 0,\n",
       "   'source': '../data/camcom.pdf',\n",
       "   'doc_index': 5,\n",
       "   'source_file': 'camcom.pdf',\n",
       "   'total_pages': 5},\n",
       "  'similarity_score': 0.23714500665664673,\n",
       "  'distance': 0.7628549933433533,\n",
       "  'rank': 4},\n",
       " {'id': 'doc_3eca464b_5',\n",
       "  'content': 'CamCom Technologies Pvt. Ltd.\\nCompany Profile\\nAs of September 2025\\nCompiled by Grok, created by xAI\\nSource: Publicly available information from camcom.ai, IndiaFilings, ZaubaCorp, The\\nCompany Check, and other web sources.',\n",
       "  'metadata': {'content_length': 221,\n",
       "   'page_label': '1',\n",
       "   'total_pages': 5,\n",
       "   'producer': 'xdvipdfmx (20220710)',\n",
       "   'creationdate': '2025-09-09T15:04:36+00:00',\n",
       "   'file_type': 'pdf',\n",
       "   'creator': 'LaTeX with hyperref',\n",
       "   'source': '../data/camcom.pdf',\n",
       "   'source_file': 'camcom.pdf',\n",
       "   'page': 0,\n",
       "   'doc_index': 5},\n",
       "  'similarity_score': 0.23714500665664673,\n",
       "  'distance': 0.7628549933433533,\n",
       "  'rank': 5}]"
      ]
     },
     "execution_count": 64,
     "metadata": {},
     "output_type": "execute_result"
    }
   ],
   "source": [
    "rag_retriever.retrieve(\"Financial Information of camcom\")"
   ]
  },
  {
   "cell_type": "code",
   "execution_count": 83,
   "metadata": {},
   "outputs": [
    {
     "data": {
      "text/plain": [
       "True"
      ]
     },
     "execution_count": 83,
     "metadata": {},
     "output_type": "execute_result"
    }
   ],
   "source": [
    "import os\n",
    "from dotenv import load_dotenv\n",
    "load_dotenv()\n"
   ]
  },
  {
   "cell_type": "code",
   "execution_count": 84,
   "metadata": {},
   "outputs": [],
   "source": [
    "### integration vectordb with llm\n",
    "from langchain_groq import ChatGroq\n",
    "from langchain.prompts import PromptTemplate\n",
    "from langchain.schema import HumanMessage, SystemMessage"
   ]
  },
  {
   "cell_type": "code",
   "execution_count": 86,
   "metadata": {},
   "outputs": [],
   "source": [
    "class GroqLLM:\n",
    "\n",
    "    def __init__(self, model_name: str=\"gemma2-9b-it\", api_key: str=None):\n",
    "\n",
    "        self.model_name = model_name\n",
    "        self.api_key = api_key or os.environ.get(\"GROQ_API_KEY\")\n",
    "\n",
    "        if not self.api_key:\n",
    "            raise ValueError(\"Groq API key is required. Set GROQ_API_KEY environment variable or pass api_key parameter.\")\n",
    "        \n",
    "        self.llm = ChatGroq(\n",
    "            groq_api_key=self.api_key,\n",
    "            model_name=self.model_name,\n",
    "            temperature=0.1,\n",
    "            max_tokens=1024\n",
    "        )\n",
    "        print(f\"Initialized Groq LLM with model: {self.model_name}\")\n",
    "\n",
    "    def generate_response(self, query: str, context: str, maxlength: int= 500) -> str:\n",
    "        \n",
    "        prompt_template = PromptTemplate(\n",
    "            imput_variables = [\"context\", \"question\"],\n",
    "            template = \"\"\"You are a helpful AI assistant. Use the following context to answer the question accurately and concisely.\n",
    "                            Context: {context}\n",
    "                            Question: {question}\n",
    "                            Answer: Provide a clear and informative answer based on the context above. If the context doesn't contain enough information to answer the question, say so.\"\"\",\n",
    "        )\n",
    "\n",
    "        formatted_prompt = prompt_template.format(context=context, question=query)\n",
    "\n",
    "        try:\n",
    "\n",
    "            messages = [HumanMessage(content=formatted_prompt)]\n",
    "            response = self.llm.invoke(messages)\n",
    "            return response.content\n",
    "        \n",
    "        except Exception as e:\n",
    "            return f\"Error generating response: {str(e)}\"\n",
    "        \n",
    "    def generate_response_simple(self, query: str, context: str) -> str:\n",
    "        \n",
    "        simple_prompt = f\"\"\"Based on this context: {context}\n",
    "\n",
    "                                Question: {query}\n",
    "\n",
    "                                Answer:\"\"\"\n",
    "        try:\n",
    "\n",
    "            messages = [HumanMessage(content=simple_prompt)]\n",
    "            response = self.llm.invoke(messages)\n",
    "            return response\n",
    "        \n",
    "        except Exception as e:\n",
    "            return f\"Error: {str(e)}\"\n"
   ]
  },
  {
   "cell_type": "code",
   "execution_count": 87,
   "metadata": {},
   "outputs": [
    {
     "name": "stdout",
     "output_type": "stream",
     "text": [
      "Initialized Groq LLM with model: gemma2-9b-it\n",
      "Groq LLM initialized successfully!\n"
     ]
    }
   ],
   "source": [
    "# Initialize Groq LLM \n",
    "\n",
    "try:\n",
    "    groq_llm = GroqLLM(api_key=os.getenv(\"GROQ_API_KEY\"))\n",
    "    print(\"Groq LLM initialized successfully!\")\n",
    "except Exception as e:\n",
    "    print(f\"Warning: {e}\")\n",
    "    print(\"Please set your GROQ_API_KEY environment variable to use the LLM.\")\n",
    "    groq_llm = None"
   ]
  },
  {
   "cell_type": "code",
   "execution_count": 82,
   "metadata": {},
   "outputs": [
    {
     "name": "stderr",
     "output_type": "stream",
     "text": [
      "Batches: 100%|██████████| 1/1 [00:00<00:00,  4.66it/s]"
     ]
    },
    {
     "name": "stdout",
     "output_type": "stream",
     "text": [
      "Generated embeddings with shape: (1, 384)\n",
      "Retrieved 5 documents (after filtering)\n"
     ]
    },
    {
     "name": "stderr",
     "output_type": "stream",
     "text": [
      "\n"
     ]
    },
    {
     "data": {
      "text/plain": [
       "[{'id': 'doc_c6af2c4b_0',\n",
       "  'content': 'CamCom Technologies Pvt Ltd — Company Profile\\nExecutive Summary\\nCamCom Technologies Pvt Ltd (CamCom) is a Bengaluru-based, award-winning, industry-agnostic deep-learning\\ncomputer vision company that provides visual inspection and damage/defect assessment solutions across\\nautomotive, insurance, manufacturing, logistics and other sectors. They have developed large vision models for\\nsurface-agnostic defect assessment and offer cloud & mobile-enabled deployments for both manufacturing and\\naftermarket workflows.\\nKey Facts\\nLegal name: CamCom Technologies Private Limited CIN: U74999KA2017PTC106196 Headquarters: No.70, 2nd Floor, 1st\\nCross, Shayadri Layout Billekahalli, Arakere, off Bannerghatta Road, Bangalore 560076, India Founded: 2017\\n(company sources and profiles list founders and early dates) Website: https://camcom.ai\\nLeadership & Founders\\nAjith Nayar — Co-founder & CEO Uma (Umesh) Mahesh — Co-founder & President (Americas) Mahesh Subramanian — Co-',\n",
       "  'metadata': {'author': 'anonymous',\n",
       "   'producer': 'ReportLab PDF Library - www.reportlab.com',\n",
       "   'creator': 'ReportLab PDF Library - www.reportlab.com',\n",
       "   'file_type': 'pdf',\n",
       "   'title': 'untitled',\n",
       "   'page': 0,\n",
       "   'page_label': '1',\n",
       "   'moddate': '2025-09-09T15:09:15+00:00',\n",
       "   'subject': 'unspecified',\n",
       "   'source': '../data/camcom_2.pdf',\n",
       "   'keywords': '',\n",
       "   'source_file': 'camcom_2.pdf',\n",
       "   'total_pages': 2,\n",
       "   'trapped': '/False',\n",
       "   'content_length': 961,\n",
       "   'doc_index': 0,\n",
       "   'creationdate': '2025-09-09T15:09:15+00:00'},\n",
       "  'similarity_score': 0.31395113468170166,\n",
       "  'distance': 0.6860488653182983,\n",
       "  'rank': 1},\n",
       " {'id': 'doc_c7effc10_0',\n",
       "  'content': 'CamCom Technologies Pvt Ltd — Company Profile\\nExecutive Summary\\nCamCom Technologies Pvt Ltd (CamCom) is a Bengaluru-based, award-winning, industry-agnostic deep-learning\\ncomputer vision company that provides visual inspection and damage/defect assessment solutions across\\nautomotive, insurance, manufacturing, logistics and other sectors. They have developed large vision models for\\nsurface-agnostic defect assessment and offer cloud & mobile-enabled deployments for both manufacturing and\\naftermarket workflows.\\nKey Facts\\nLegal name: CamCom Technologies Private Limited CIN: U74999KA2017PTC106196 Headquarters: No.70, 2nd Floor, 1st\\nCross, Shayadri Layout Billekahalli, Arakere, off Bannerghatta Road, Bangalore 560076, India Founded: 2017\\n(company sources and profiles list founders and early dates) Website: https://camcom.ai\\nLeadership & Founders\\nAjith Nayar — Co-founder & CEO Uma (Umesh) Mahesh — Co-founder & President (Americas) Mahesh Subramanian — Co-',\n",
       "  'metadata': {'subject': 'unspecified',\n",
       "   'creationdate': '2025-09-09T15:09:15+00:00',\n",
       "   'trapped': '/False',\n",
       "   'author': 'anonymous',\n",
       "   'source_file': 'camcom_2.pdf',\n",
       "   'producer': 'ReportLab PDF Library - www.reportlab.com',\n",
       "   'page_label': '1',\n",
       "   'doc_index': 0,\n",
       "   'title': 'untitled',\n",
       "   'source': '../data/camcom_2.pdf',\n",
       "   'keywords': '',\n",
       "   'moddate': '2025-09-09T15:09:15+00:00',\n",
       "   'total_pages': 2,\n",
       "   'content_length': 961,\n",
       "   'creator': 'ReportLab PDF Library - www.reportlab.com',\n",
       "   'page': 0,\n",
       "   'file_type': 'pdf'},\n",
       "  'similarity_score': 0.31395113468170166,\n",
       "  'distance': 0.6860488653182983,\n",
       "  'rank': 2},\n",
       " {'id': 'doc_d89ae18f_0',\n",
       "  'content': 'CamCom Technologies Pvt Ltd — Company Profile\\nExecutive Summary\\nCamCom Technologies Pvt Ltd (CamCom) is a Bengaluru-based, award-winning, industry-agnostic deep-learning\\ncomputer vision company that provides visual inspection and damage/defect assessment solutions across\\nautomotive, insurance, manufacturing, logistics and other sectors. They have developed large vision models for\\nsurface-agnostic defect assessment and offer cloud & mobile-enabled deployments for both manufacturing and\\naftermarket workflows.\\nKey Facts\\nLegal name: CamCom Technologies Private Limited CIN: U74999KA2017PTC106196 Headquarters: No.70, 2nd Floor, 1st\\nCross, Shayadri Layout Billekahalli, Arakere, off Bannerghatta Road, Bangalore 560076, India Founded: 2017\\n(company sources and profiles list founders and early dates) Website: https://camcom.ai\\nLeadership & Founders\\nAjith Nayar — Co-founder & CEO Uma (Umesh) Mahesh — Co-founder & President (Americas) Mahesh Subramanian — Co-',\n",
       "  'metadata': {'source_file': 'camcom_2.pdf',\n",
       "   'page': 0,\n",
       "   'file_type': 'pdf',\n",
       "   'moddate': '2025-09-09T15:09:15+00:00',\n",
       "   'total_pages': 2,\n",
       "   'subject': 'unspecified',\n",
       "   'trapped': '/False',\n",
       "   'content_length': 961,\n",
       "   'creationdate': '2025-09-09T15:09:15+00:00',\n",
       "   'doc_index': 0,\n",
       "   'creator': 'ReportLab PDF Library - www.reportlab.com',\n",
       "   'page_label': '1',\n",
       "   'producer': 'ReportLab PDF Library - www.reportlab.com',\n",
       "   'title': 'untitled',\n",
       "   'keywords': '',\n",
       "   'source': '../data/camcom_2.pdf',\n",
       "   'author': 'anonymous'},\n",
       "  'similarity_score': 0.31395113468170166,\n",
       "  'distance': 0.6860488653182983,\n",
       "  'rank': 3},\n",
       " {'id': 'doc_805eb01b_4',\n",
       "  'content': 'record, Zaubacorp, Tofler, Tracxn News/press releases linked with ERGO Group partnership and product launch\\ndetails.\\nGenerated PDF: CamCom Technologies Pvt Ltd — compiled by ChatGPT using public sources (Sep 9, 2025).',\n",
       "  'metadata': {'page': 1,\n",
       "   'author': 'anonymous',\n",
       "   'moddate': '2025-09-09T15:09:15+00:00',\n",
       "   'title': 'untitled',\n",
       "   'subject': 'unspecified',\n",
       "   'content_length': 217,\n",
       "   'total_pages': 2,\n",
       "   'page_label': '2',\n",
       "   'file_type': 'pdf',\n",
       "   'creator': 'ReportLab PDF Library - www.reportlab.com',\n",
       "   'trapped': '/False',\n",
       "   'source': '../data/camcom_2.pdf',\n",
       "   'keywords': '',\n",
       "   'creationdate': '2025-09-09T15:09:15+00:00',\n",
       "   'doc_index': 4,\n",
       "   'producer': 'ReportLab PDF Library - www.reportlab.com',\n",
       "   'source_file': 'camcom_2.pdf'},\n",
       "  'similarity_score': 0.1493469476699829,\n",
       "  'distance': 0.8506530523300171,\n",
       "  'rank': 4},\n",
       " {'id': 'doc_c179e156_4',\n",
       "  'content': 'record, Zaubacorp, Tofler, Tracxn News/press releases linked with ERGO Group partnership and product launch\\ndetails.\\nGenerated PDF: CamCom Technologies Pvt Ltd — compiled by ChatGPT using public sources (Sep 9, 2025).',\n",
       "  'metadata': {'total_pages': 2,\n",
       "   'creationdate': '2025-09-09T15:09:15+00:00',\n",
       "   'subject': 'unspecified',\n",
       "   'doc_index': 4,\n",
       "   'keywords': '',\n",
       "   'source_file': 'camcom_2.pdf',\n",
       "   'trapped': '/False',\n",
       "   'file_type': 'pdf',\n",
       "   'content_length': 217,\n",
       "   'title': 'untitled',\n",
       "   'page_label': '2',\n",
       "   'moddate': '2025-09-09T15:09:15+00:00',\n",
       "   'creator': 'ReportLab PDF Library - www.reportlab.com',\n",
       "   'author': 'anonymous',\n",
       "   'producer': 'ReportLab PDF Library - www.reportlab.com',\n",
       "   'source': '../data/camcom_2.pdf',\n",
       "   'page': 1},\n",
       "  'similarity_score': 0.1493469476699829,\n",
       "  'distance': 0.8506530523300171,\n",
       "  'rank': 5}]"
      ]
     },
     "execution_count": 82,
     "metadata": {},
     "output_type": "execute_result"
    }
   ],
   "source": [
    "rag_retriever.retrieve(\"camcom\")"
   ]
  }
 ],
 "metadata": {
  "kernelspec": {
   "display_name": ".venv",
   "language": "python",
   "name": "python3"
  },
  "language_info": {
   "codemirror_mode": {
    "name": "ipython",
    "version": 3
   },
   "file_extension": ".py",
   "mimetype": "text/x-python",
   "name": "python",
   "nbconvert_exporter": "python",
   "pygments_lexer": "ipython3",
   "version": "3.13.2"
  }
 },
 "nbformat": 4,
 "nbformat_minor": 2
}
