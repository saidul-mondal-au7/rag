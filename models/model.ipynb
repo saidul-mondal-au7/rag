{
 "cells": [
  {
   "cell_type": "code",
   "execution_count": 2,
   "metadata": {},
   "outputs": [],
   "source": [
    "import os\n",
    "from langchain_community.document_loaders import PyPDFLoader, PyMuPDFLoader\n",
    "from langchain_text_splitters import RecursiveCharacterTextSplitter\n",
    "from pathlib import Path"
   ]
  },
  {
   "cell_type": "code",
   "execution_count": 5,
   "metadata": {},
   "outputs": [
    {
     "name": "stdout",
     "output_type": "stream",
     "text": [
      "Found 2 PDF files to process\n",
      "\n",
      "Processing: camcom_2.pdf\n",
      "  ✓ Loaded 2 pages\n",
      "\n",
      "Processing: camcom.pdf\n",
      "  ✓ Loaded 5 pages\n",
      "\n",
      "Total documents loaded: 7\n"
     ]
    }
   ],
   "source": [
    "def process_all_pdfs(pdf_directory):\n",
    "    all_documents = []\n",
    "    pdf_dir = Path(pdf_directory)\n",
    "    pdf_files = list(pdf_dir.glob('**/*.pdf'))\n",
    "\n",
    "    print(f\"Found {len(pdf_files)} PDF files to process\")\n",
    "\n",
    "    for pdf_file in pdf_files:\n",
    "        print(f\"\\nProcessing: {pdf_file.name}\")\n",
    "\n",
    "        try:\n",
    "            loader = PyPDFLoader(str(pdf_file))\n",
    "            documents = loader.load()\n",
    "            for doc in documents:\n",
    "                doc.metadata['source_file'] = pdf_file.name\n",
    "                doc.metadata['file_type'] = 'pdf'\n",
    "\n",
    "            all_documents.extend(documents)\n",
    "            print(f\"  ✓ Loaded {len(documents)} pages\")\n",
    "\n",
    "        except Exception as e:\n",
    "            print(f\"  ✗ Error: {e}\")\n",
    "\n",
    "    print(f\"\\nTotal documents loaded: {len(all_documents)}\")\n",
    "    return all_documents\n",
    "\n",
    "all_pdf_documents = process_all_pdfs(\"../data\")"
   ]
  },
  {
   "cell_type": "code",
   "execution_count": 6,
   "metadata": {},
   "outputs": [
    {
     "data": {
      "text/plain": [
       "[Document(metadata={'producer': 'ReportLab PDF Library - www.reportlab.com', 'creator': 'ReportLab PDF Library - www.reportlab.com', 'creationdate': '2025-09-09T15:09:15+00:00', 'author': 'anonymous', 'keywords': '', 'moddate': '2025-09-09T15:09:15+00:00', 'subject': 'unspecified', 'title': 'untitled', 'trapped': '/False', 'source': '../data/camcom_2.pdf', 'total_pages': 2, 'page': 0, 'page_label': '1', 'source_file': 'camcom_2.pdf', 'file_type': 'pdf'}, page_content=\"CamCom Technologies Pvt Ltd — Company Profile\\nExecutive Summary\\nCamCom Technologies Pvt Ltd (CamCom) is a Bengaluru-based, award-winning, industry-agnostic deep-learning\\ncomputer vision company that provides visual inspection and damage/defect assessment solutions across\\nautomotive, insurance, manufacturing, logistics and other sectors. They have developed large vision models for\\nsurface-agnostic defect assessment and offer cloud & mobile-enabled deployments for both manufacturing and\\naftermarket workflows.\\nKey Facts\\nLegal name: CamCom Technologies Private Limited CIN: U74999KA2017PTC106196 Headquarters: No.70, 2nd Floor, 1st\\nCross, Shayadri Layout Billekahalli, Arakere, off Bannerghatta Road, Bangalore 560076, India Founded: 2017\\n(company sources and profiles list founders and early dates) Website: https://camcom.ai\\nLeadership & Founders\\nAjith Nayar — Co-founder & CEO Uma (Umesh) Mahesh — Co-founder & President (Americas) Mahesh Subramanian — Co-\\nfounder & President (APAC) Geetha Sham — Director & President (Europe) Other founders/executives reported in\\ncompany profiles and startup databases.\\nProducts & Solutions\\n\\x7f Large Vision Models (LVM) for surface-agnostic defect and damage assessment \\x7f AI& (flagship LVM + LLM hybrid\\n— announced at their 8th anniversary launch) \\x7f Automated visual inspection for automotive OEM (end-of-line),\\nfinished-vehicle logistics (PDIs), insurance claims automation, aerospace inspections, warehousing & pharma\\nfinal inspection \\x7f Mobile apps and cloud services for inspection workflows, OCR for labels and documents, and\\nreal-time pass/fail analytics.\\nTechnology & Capabilities\\n\\x7f Micro-defect detection (claims of detection down to ~50 microns in manufacturing contexts) \\x7f Industry-\\nagnostic models trained on large, customer-validated datasets \\x7f Integrations with cloud & edge compute,\\npartnerships with AWS/Intel/Nvidia noted in public materials\\nRecent News & Partnerships (selected)\\n\\x7f AI& launch (announced during CamCom's 8th anniversary celebrations) — positioned as a 24B-parameter LVM with\\ncombined LLM capabilities for predict/prescribe/prevent workflows. \\x7f Strategic partnership and global\\ndeployment with ERGO Group AG / ERGO Insurance for insurance-sector inspections and claims automation. \\x7f\\nMultiple regional deployments across Asia, Europe, Middle East and Mexico (per company news and press\\ncoverage).\\nAwards & Recognition\\n\\x7f Multiple startup and innovation recognitions in India and internationally (CamCom materials cite innovation\\nawards and industry recognitions such as NASSCOM-related listings).\\nCorporate & Registry Data\\nSources such as corporate registries and business-data platforms list the registered address, CIN, and company\\nstatus. The last reported AGM listed in public records was in 2024.\\nReferences (selected)\\nCamCom official site: https://camcom.ai CamCom — About / Resources / Contact pages (company website) Press\\ncoverage: Tribune India, PTI/Press Trust of India, CXOToday Business registries & profiles: Bloomberg LEI\"),\n",
       " Document(metadata={'producer': 'ReportLab PDF Library - www.reportlab.com', 'creator': 'ReportLab PDF Library - www.reportlab.com', 'creationdate': '2025-09-09T15:09:15+00:00', 'author': 'anonymous', 'keywords': '', 'moddate': '2025-09-09T15:09:15+00:00', 'subject': 'unspecified', 'title': 'untitled', 'trapped': '/False', 'source': '../data/camcom_2.pdf', 'total_pages': 2, 'page': 1, 'page_label': '2', 'source_file': 'camcom_2.pdf', 'file_type': 'pdf'}, page_content='record, Zaubacorp, Tofler, Tracxn News/press releases linked with ERGO Group partnership and product launch\\ndetails.\\nGenerated PDF: CamCom Technologies Pvt Ltd — compiled by ChatGPT using public sources (Sep 9, 2025).'),\n",
       " Document(metadata={'producer': 'xdvipdfmx (20220710)', 'creator': 'LaTeX with hyperref', 'creationdate': '2025-09-09T15:04:36+00:00', 'source': '../data/camcom.pdf', 'total_pages': 5, 'page': 0, 'page_label': '1', 'source_file': 'camcom.pdf', 'file_type': 'pdf'}, page_content='CamCom Technologies Pvt. Ltd.\\nCompany Profile\\nAs of September 2025\\nCompiled by Grok, created by xAI\\nSource: Publicly available information from camcom.ai, IndiaFilings, ZaubaCorp, The\\nCompany Check, and other web sources.'),\n",
       " Document(metadata={'producer': 'xdvipdfmx (20220710)', 'creator': 'LaTeX with hyperref', 'creationdate': '2025-09-09T15:04:36+00:00', 'source': '../data/camcom.pdf', 'total_pages': 5, 'page': 1, 'page_label': '1', 'source_file': 'camcom.pdf', 'file_type': 'pdf'}, page_content='1 Company Overview\\nCamCom Technologies Pvt. Ltd. is a Bengaluru-based deep-tech startup special-\\nizing in AI-powered visual inspection platforms leveraging computer vision and\\ndeep learning technologies. Established on September 7, 2017, the company fo-\\ncuses on automating defect detection, damage assessment, and quality control\\nacross various industries. It is registered as a private limited, non-government\\ncompany under the Registrar of Companies (RoC), Bangalore, with the Corporate\\nIdentification Number (CIN) U74999KA2017PTC106196.\\n1.1 Key Details\\n• Registered Name: CamCom Technologies Private Limited\\n• Former Name: Gifto Retail Technologies Private Limited\\n• Incorporation Date: September 7, 2017\\n• Company Type: Private, Company Limited by Shares\\n• Registered Address: No. 70, 2nd Floor, 1st Cross, Shayadri Layout, Billeka-\\nhalli, Arakere, off Bannerghatta Road, Bangalore, Karnataka, India - 560076\\n• Email: umesh@camcom.ai\\n• Website: https://camcom.ai\\n• Listing Status: Unlisted\\n• Company Status: Active (as of July 2023)\\n• NIC Code: 7499 (Other business activities n.e.c., service activities for com-\\nmercial clients)\\n2 Financial Information\\nCamCom Technologies Pvt. Ltd. operates with a modest financial structure, as\\nreported by various sources up to June 2025.\\n• Authorized Share Capital: ₹1,700,000\\n• Paid-up Capital: ₹1,078,045\\n• Open Charges: ₹5,000,000\\n• Satisfied Charges: ₹1,000,000\\n• Revenue Growth (FY 2023): 39.70%\\n• Profit Growth (FY 2023): -237.57%\\n• EBITDA (FY 2023): -235.77%\\n• Net Worth (FY 2023): 10.98%\\n• Total Assets Growth (FY 2023): 40.90%\\n• Last Annual General Meeting: September 27, 2024\\n1'),\n",
       " Document(metadata={'producer': 'xdvipdfmx (20220710)', 'creator': 'LaTeX with hyperref', 'creationdate': '2025-09-09T15:04:36+00:00', 'source': '../data/camcom.pdf', 'total_pages': 5, 'page': 2, 'page_label': '2', 'source_file': 'camcom.pdf', 'file_type': 'pdf'}, page_content='• Last Balance Sheet Filed: March 31, 2024\\n3 Technology and Solutions\\nCamCom is a pioneer in AI-driven visual inspection, utilizing its proprietary\\nLarge Vision Model (LVM), India’s first domain-specific AI engine trained on over\\n450 million validated images. The platform achieves up to 96% accuracy in dam-\\nage assessments and supports:\\n• Core Technologies: Deep learning, computer vision, semantic segmenta-\\ntion, transfer learning, and heatmap-based dent depth identification.\\n• Inspection Capabilities: Micro-level defect detection (down to 50 microns),\\nobject detection, and image classification.\\n• Deployment Modes: Custom hardware (e.g., deflectometry rigs for surface\\ndefects), smartphone-based guided inspections, and drone-based solutions\\nfor large-scale applications.\\n• Patented Innovations: Includes automated quality check rigs for automo-\\ntive and apparel industries, vehicle accident impact point determination,\\nand more (patents filed in India since 2023).\\n4 Industries and Applications\\nCamCom’s industry-agnostic platform serves multiple sectors with tailored solu-\\ntions:\\n• Automotive: Pre-delivery inspections (PDI), roll-on/roll-off damage track-\\ning, and end-to-end vehicle audits for OEMs, dealerships, and fleet opera-\\ntors.\\n• Insurance: Rapid underwriting and claims processing (e.g., vehicle claims\\nsettled in under 5 minutes), pre-inspection for motor and homeowners’\\npolicies.\\n• Pharmaceuticals and Warehousing: Product-to-catalog matching, defect\\ndetection, and data comparisons for disposal.\\n• Fashion: Automated quality checks for apparel (in collaboration with Myn-\\ntra).\\n• Public Safety and Infrastructure: Monthly inspections of over 7 million\\nitems in Saudi Arabia, smart city monitoring with Vistas Global, and disas-\\nter response solutions.\\n• Other Sectors: Airlines, gas cylinder inspections, defense/civilian aircraft\\nmaintenance, and more.\\n2'),\n",
       " Document(metadata={'producer': 'xdvipdfmx (20220710)', 'creator': 'LaTeX with hyperref', 'creationdate': '2025-09-09T15:04:36+00:00', 'source': '../data/camcom.pdf', 'total_pages': 5, 'page': 3, 'page_label': '3', 'source_file': 'camcom.pdf', 'file_type': 'pdf'}, page_content='5 Leadership and Directors\\nThe company is led by a team of experienced directors, as reported by The Com-\\npany Check and ZaubaCorp (as of June 2025):\\n• Geetha Sham: Director (Appointed: July 26, 2023)\\n• Ajith Nayar: Director (Appointed: September 7, 2017)\\n• Subramanian Mahesh: Director (Appointed: August 30, 2019)\\n• Uma Mahesh: Director (Appointed: September 7, 2017)\\n• Pradyumna Dalmia: Director (Appointed: July 26, 2023)\\n• Past Director: Pramodkumar Bhurmal (Cessation: Unknown)\\n6 Partnerships and Achievements\\nCamCom has established significant partnerships and earned multiple accolades:\\n• Key Partnerships:\\n– Myntra: Automated quality control for apparel.\\n– HDFC ERGO and Zurich: Insurance underwriting and claims.\\n– ERGO Group: 2025 rollout in Baltic states for European insurance mar-\\nkets.\\n– Guidewire and Duck Creek: Integration for vehicle damage estimation.\\n– Vistas Global: Smart city AI solutions.\\n• Awards and Recognition:\\n– Top Startup by Government of India, NASSCOM, Mahindra Mobility,\\nand Intel Startup Program.\\n– Aegis Graham Bell Award for Innovation in Insurance (2025).\\n• Global Presence: Offices in Dubai, Munich, and Düsseldorf, with a val-\\nuation of $4.13M after raising $1.74M across 6 funding rounds (investors\\ninclude Triton Investment Advisors).\\n• Recent Milestones (2025): Launched “AI&” (Large Vision Model platform),\\npublished a book on aircraft maintenance solutions, and celebrated 8 years\\nwith events attended by dignitaries like MP Sasmit Patra.\\n7 Commitment to Sustainability\\nCamCom aligns with global sustainability goals, supporting UN Sustainable De-\\nvelopment Goals through initiatives like migrant worker upliftment and disaster\\nresponse. Their solutions reduce manual errors, enhance efficiency, and pro-\\nmote eco-friendly processes in industries like automotive and insurance.\\n3'),\n",
       " Document(metadata={'producer': 'xdvipdfmx (20220710)', 'creator': 'LaTeX with hyperref', 'creationdate': '2025-09-09T15:04:36+00:00', 'source': '../data/camcom.pdf', 'total_pages': 5, 'page': 4, 'page_label': '4', 'source_file': 'camcom.pdf', 'file_type': 'pdf'}, page_content='8 Contact Information\\n• Email: umesh@camcom.ai\\n• Telephone: Available upon request via official channels\\n• Website: https://camcom.ai\\n• Social Media: LinkedIn (https://in.linkedin.com/company/camcom),\\nX\\n• Registered Office: No. 70, 2nd Floor, 1st Cross, Shayadri Layout, Billeka-\\nhalli, Arakere, off Bannerghatta Road, Bangalore, Karnataka, India - 560076\\n4')]"
      ]
     },
     "execution_count": 6,
     "metadata": {},
     "output_type": "execute_result"
    }
   ],
   "source": [
    "all_pdf_documents"
   ]
  },
  {
   "cell_type": "code",
   "execution_count": 7,
   "metadata": {},
   "outputs": [],
   "source": [
    "### Text splitting get into chunks\n",
    "def split_documents(documents, chunk_size=1000, chunk_overlap=200):\n",
    "    \"\"\"Split documents into smaller chunks for better RAG performance\"\"\"\n",
    "\n",
    "    text_splitter = RecursiveCharacterTextSplitter(\n",
    "        chunk_size = chunk_size,\n",
    "        chunk_overlap = chunk_overlap,\n",
    "        length_function=len,\n",
    "        separators=[\"\\n\\n\", \"\\n\", \" \", \"\"]\n",
    "    )\n",
    "\n",
    "    split_docs = text_splitter.split_documents(documents)\n",
    "    print(f\"Split {len(documents)} documents into {len(split_docs)} chunks\")\n",
    "\n",
    "    # Show example of a chunk\n",
    "    if split_docs:\n",
    "        print(f\"\\nExample chunk:\")\n",
    "        print(f\"Content: {split_docs[0].page_content[:200]}...\")\n",
    "        print(f\"Metadata: {split_docs[0].metadata}\")\n",
    "    \n",
    "    return split_docs\n",
    "\n"
   ]
  },
  {
   "cell_type": "code",
   "execution_count": 8,
   "metadata": {},
   "outputs": [
    {
     "name": "stdout",
     "output_type": "stream",
     "text": [
      "Split 7 documents into 15 chunks\n",
      "\n",
      "Example chunk:\n",
      "Content: CamCom Technologies Pvt Ltd — Company Profile\n",
      "Executive Summary\n",
      "CamCom Technologies Pvt Ltd (CamCom) is a Bengaluru-based, award-winning, industry-agnostic deep-learning\n",
      "computer vision company that p...\n",
      "Metadata: {'producer': 'ReportLab PDF Library - www.reportlab.com', 'creator': 'ReportLab PDF Library - www.reportlab.com', 'creationdate': '2025-09-09T15:09:15+00:00', 'author': 'anonymous', 'keywords': '', 'moddate': '2025-09-09T15:09:15+00:00', 'subject': 'unspecified', 'title': 'untitled', 'trapped': '/False', 'source': '../data/camcom_2.pdf', 'total_pages': 2, 'page': 0, 'page_label': '1', 'source_file': 'camcom_2.pdf', 'file_type': 'pdf'}\n"
     ]
    },
    {
     "data": {
      "text/plain": [
       "[Document(metadata={'producer': 'ReportLab PDF Library - www.reportlab.com', 'creator': 'ReportLab PDF Library - www.reportlab.com', 'creationdate': '2025-09-09T15:09:15+00:00', 'author': 'anonymous', 'keywords': '', 'moddate': '2025-09-09T15:09:15+00:00', 'subject': 'unspecified', 'title': 'untitled', 'trapped': '/False', 'source': '../data/camcom_2.pdf', 'total_pages': 2, 'page': 0, 'page_label': '1', 'source_file': 'camcom_2.pdf', 'file_type': 'pdf'}, page_content='CamCom Technologies Pvt Ltd — Company Profile\\nExecutive Summary\\nCamCom Technologies Pvt Ltd (CamCom) is a Bengaluru-based, award-winning, industry-agnostic deep-learning\\ncomputer vision company that provides visual inspection and damage/defect assessment solutions across\\nautomotive, insurance, manufacturing, logistics and other sectors. They have developed large vision models for\\nsurface-agnostic defect assessment and offer cloud & mobile-enabled deployments for both manufacturing and\\naftermarket workflows.\\nKey Facts\\nLegal name: CamCom Technologies Private Limited CIN: U74999KA2017PTC106196 Headquarters: No.70, 2nd Floor, 1st\\nCross, Shayadri Layout Billekahalli, Arakere, off Bannerghatta Road, Bangalore 560076, India Founded: 2017\\n(company sources and profiles list founders and early dates) Website: https://camcom.ai\\nLeadership & Founders\\nAjith Nayar — Co-founder & CEO Uma (Umesh) Mahesh — Co-founder & President (Americas) Mahesh Subramanian — Co-'),\n",
       " Document(metadata={'producer': 'ReportLab PDF Library - www.reportlab.com', 'creator': 'ReportLab PDF Library - www.reportlab.com', 'creationdate': '2025-09-09T15:09:15+00:00', 'author': 'anonymous', 'keywords': '', 'moddate': '2025-09-09T15:09:15+00:00', 'subject': 'unspecified', 'title': 'untitled', 'trapped': '/False', 'source': '../data/camcom_2.pdf', 'total_pages': 2, 'page': 0, 'page_label': '1', 'source_file': 'camcom_2.pdf', 'file_type': 'pdf'}, page_content='Leadership & Founders\\nAjith Nayar — Co-founder & CEO Uma (Umesh) Mahesh — Co-founder & President (Americas) Mahesh Subramanian — Co-\\nfounder & President (APAC) Geetha Sham — Director & President (Europe) Other founders/executives reported in\\ncompany profiles and startup databases.\\nProducts & Solutions\\n\\x7f Large Vision Models (LVM) for surface-agnostic defect and damage assessment \\x7f AI& (flagship LVM + LLM hybrid\\n— announced at their 8th anniversary launch) \\x7f Automated visual inspection for automotive OEM (end-of-line),\\nfinished-vehicle logistics (PDIs), insurance claims automation, aerospace inspections, warehousing & pharma\\nfinal inspection \\x7f Mobile apps and cloud services for inspection workflows, OCR for labels and documents, and\\nreal-time pass/fail analytics.\\nTechnology & Capabilities\\n\\x7f Micro-defect detection (claims of detection down to ~50 microns in manufacturing contexts) \\x7f Industry-'),\n",
       " Document(metadata={'producer': 'ReportLab PDF Library - www.reportlab.com', 'creator': 'ReportLab PDF Library - www.reportlab.com', 'creationdate': '2025-09-09T15:09:15+00:00', 'author': 'anonymous', 'keywords': '', 'moddate': '2025-09-09T15:09:15+00:00', 'subject': 'unspecified', 'title': 'untitled', 'trapped': '/False', 'source': '../data/camcom_2.pdf', 'total_pages': 2, 'page': 0, 'page_label': '1', 'source_file': 'camcom_2.pdf', 'file_type': 'pdf'}, page_content=\"real-time pass/fail analytics.\\nTechnology & Capabilities\\n\\x7f Micro-defect detection (claims of detection down to ~50 microns in manufacturing contexts) \\x7f Industry-\\nagnostic models trained on large, customer-validated datasets \\x7f Integrations with cloud & edge compute,\\npartnerships with AWS/Intel/Nvidia noted in public materials\\nRecent News & Partnerships (selected)\\n\\x7f AI& launch (announced during CamCom's 8th anniversary celebrations) — positioned as a 24B-parameter LVM with\\ncombined LLM capabilities for predict/prescribe/prevent workflows. \\x7f Strategic partnership and global\\ndeployment with ERGO Group AG / ERGO Insurance for insurance-sector inspections and claims automation. \\x7f\\nMultiple regional deployments across Asia, Europe, Middle East and Mexico (per company news and press\\ncoverage).\\nAwards & Recognition\\n\\x7f Multiple startup and innovation recognitions in India and internationally (CamCom materials cite innovation\\nawards and industry recognitions such as NASSCOM-related listings).\"),\n",
       " Document(metadata={'producer': 'ReportLab PDF Library - www.reportlab.com', 'creator': 'ReportLab PDF Library - www.reportlab.com', 'creationdate': '2025-09-09T15:09:15+00:00', 'author': 'anonymous', 'keywords': '', 'moddate': '2025-09-09T15:09:15+00:00', 'subject': 'unspecified', 'title': 'untitled', 'trapped': '/False', 'source': '../data/camcom_2.pdf', 'total_pages': 2, 'page': 0, 'page_label': '1', 'source_file': 'camcom_2.pdf', 'file_type': 'pdf'}, page_content='Awards & Recognition\\n\\x7f Multiple startup and innovation recognitions in India and internationally (CamCom materials cite innovation\\nawards and industry recognitions such as NASSCOM-related listings).\\nCorporate & Registry Data\\nSources such as corporate registries and business-data platforms list the registered address, CIN, and company\\nstatus. The last reported AGM listed in public records was in 2024.\\nReferences (selected)\\nCamCom official site: https://camcom.ai CamCom — About / Resources / Contact pages (company website) Press\\ncoverage: Tribune India, PTI/Press Trust of India, CXOToday Business registries & profiles: Bloomberg LEI'),\n",
       " Document(metadata={'producer': 'ReportLab PDF Library - www.reportlab.com', 'creator': 'ReportLab PDF Library - www.reportlab.com', 'creationdate': '2025-09-09T15:09:15+00:00', 'author': 'anonymous', 'keywords': '', 'moddate': '2025-09-09T15:09:15+00:00', 'subject': 'unspecified', 'title': 'untitled', 'trapped': '/False', 'source': '../data/camcom_2.pdf', 'total_pages': 2, 'page': 1, 'page_label': '2', 'source_file': 'camcom_2.pdf', 'file_type': 'pdf'}, page_content='record, Zaubacorp, Tofler, Tracxn News/press releases linked with ERGO Group partnership and product launch\\ndetails.\\nGenerated PDF: CamCom Technologies Pvt Ltd — compiled by ChatGPT using public sources (Sep 9, 2025).'),\n",
       " Document(metadata={'producer': 'xdvipdfmx (20220710)', 'creator': 'LaTeX with hyperref', 'creationdate': '2025-09-09T15:04:36+00:00', 'source': '../data/camcom.pdf', 'total_pages': 5, 'page': 0, 'page_label': '1', 'source_file': 'camcom.pdf', 'file_type': 'pdf'}, page_content='CamCom Technologies Pvt. Ltd.\\nCompany Profile\\nAs of September 2025\\nCompiled by Grok, created by xAI\\nSource: Publicly available information from camcom.ai, IndiaFilings, ZaubaCorp, The\\nCompany Check, and other web sources.'),\n",
       " Document(metadata={'producer': 'xdvipdfmx (20220710)', 'creator': 'LaTeX with hyperref', 'creationdate': '2025-09-09T15:04:36+00:00', 'source': '../data/camcom.pdf', 'total_pages': 5, 'page': 1, 'page_label': '1', 'source_file': 'camcom.pdf', 'file_type': 'pdf'}, page_content='1 Company Overview\\nCamCom Technologies Pvt. Ltd. is a Bengaluru-based deep-tech startup special-\\nizing in AI-powered visual inspection platforms leveraging computer vision and\\ndeep learning technologies. Established on September 7, 2017, the company fo-\\ncuses on automating defect detection, damage assessment, and quality control\\nacross various industries. It is registered as a private limited, non-government\\ncompany under the Registrar of Companies (RoC), Bangalore, with the Corporate\\nIdentification Number (CIN) U74999KA2017PTC106196.\\n1.1 Key Details\\n• Registered Name: CamCom Technologies Private Limited\\n• Former Name: Gifto Retail Technologies Private Limited\\n• Incorporation Date: September 7, 2017\\n• Company Type: Private, Company Limited by Shares\\n• Registered Address: No. 70, 2nd Floor, 1st Cross, Shayadri Layout, Billeka-\\nhalli, Arakere, off Bannerghatta Road, Bangalore, Karnataka, India - 560076\\n• Email: umesh@camcom.ai\\n• Website: https://camcom.ai\\n• Listing Status: Unlisted'),\n",
       " Document(metadata={'producer': 'xdvipdfmx (20220710)', 'creator': 'LaTeX with hyperref', 'creationdate': '2025-09-09T15:04:36+00:00', 'source': '../data/camcom.pdf', 'total_pages': 5, 'page': 1, 'page_label': '1', 'source_file': 'camcom.pdf', 'file_type': 'pdf'}, page_content='halli, Arakere, off Bannerghatta Road, Bangalore, Karnataka, India - 560076\\n• Email: umesh@camcom.ai\\n• Website: https://camcom.ai\\n• Listing Status: Unlisted\\n• Company Status: Active (as of July 2023)\\n• NIC Code: 7499 (Other business activities n.e.c., service activities for com-\\nmercial clients)\\n2 Financial Information\\nCamCom Technologies Pvt. Ltd. operates with a modest financial structure, as\\nreported by various sources up to June 2025.\\n• Authorized Share Capital: ₹1,700,000\\n• Paid-up Capital: ₹1,078,045\\n• Open Charges: ₹5,000,000\\n• Satisfied Charges: ₹1,000,000\\n• Revenue Growth (FY 2023): 39.70%\\n• Profit Growth (FY 2023): -237.57%\\n• EBITDA (FY 2023): -235.77%\\n• Net Worth (FY 2023): 10.98%\\n• Total Assets Growth (FY 2023): 40.90%\\n• Last Annual General Meeting: September 27, 2024\\n1'),\n",
       " Document(metadata={'producer': 'xdvipdfmx (20220710)', 'creator': 'LaTeX with hyperref', 'creationdate': '2025-09-09T15:04:36+00:00', 'source': '../data/camcom.pdf', 'total_pages': 5, 'page': 2, 'page_label': '2', 'source_file': 'camcom.pdf', 'file_type': 'pdf'}, page_content='• Last Balance Sheet Filed: March 31, 2024\\n3 Technology and Solutions\\nCamCom is a pioneer in AI-driven visual inspection, utilizing its proprietary\\nLarge Vision Model (LVM), India’s first domain-specific AI engine trained on over\\n450 million validated images. The platform achieves up to 96% accuracy in dam-\\nage assessments and supports:\\n• Core Technologies: Deep learning, computer vision, semantic segmenta-\\ntion, transfer learning, and heatmap-based dent depth identification.\\n• Inspection Capabilities: Micro-level defect detection (down to 50 microns),\\nobject detection, and image classification.\\n• Deployment Modes: Custom hardware (e.g., deflectometry rigs for surface\\ndefects), smartphone-based guided inspections, and drone-based solutions\\nfor large-scale applications.\\n• Patented Innovations: Includes automated quality check rigs for automo-\\ntive and apparel industries, vehicle accident impact point determination,\\nand more (patents filed in India since 2023).'),\n",
       " Document(metadata={'producer': 'xdvipdfmx (20220710)', 'creator': 'LaTeX with hyperref', 'creationdate': '2025-09-09T15:04:36+00:00', 'source': '../data/camcom.pdf', 'total_pages': 5, 'page': 2, 'page_label': '2', 'source_file': 'camcom.pdf', 'file_type': 'pdf'}, page_content='• Patented Innovations: Includes automated quality check rigs for automo-\\ntive and apparel industries, vehicle accident impact point determination,\\nand more (patents filed in India since 2023).\\n4 Industries and Applications\\nCamCom’s industry-agnostic platform serves multiple sectors with tailored solu-\\ntions:\\n• Automotive: Pre-delivery inspections (PDI), roll-on/roll-off damage track-\\ning, and end-to-end vehicle audits for OEMs, dealerships, and fleet opera-\\ntors.\\n• Insurance: Rapid underwriting and claims processing (e.g., vehicle claims\\nsettled in under 5 minutes), pre-inspection for motor and homeowners’\\npolicies.\\n• Pharmaceuticals and Warehousing: Product-to-catalog matching, defect\\ndetection, and data comparisons for disposal.\\n• Fashion: Automated quality checks for apparel (in collaboration with Myn-\\ntra).\\n• Public Safety and Infrastructure: Monthly inspections of over 7 million\\nitems in Saudi Arabia, smart city monitoring with Vistas Global, and disas-\\nter response solutions.'),\n",
       " Document(metadata={'producer': 'xdvipdfmx (20220710)', 'creator': 'LaTeX with hyperref', 'creationdate': '2025-09-09T15:04:36+00:00', 'source': '../data/camcom.pdf', 'total_pages': 5, 'page': 2, 'page_label': '2', 'source_file': 'camcom.pdf', 'file_type': 'pdf'}, page_content='tra).\\n• Public Safety and Infrastructure: Monthly inspections of over 7 million\\nitems in Saudi Arabia, smart city monitoring with Vistas Global, and disas-\\nter response solutions.\\n• Other Sectors: Airlines, gas cylinder inspections, defense/civilian aircraft\\nmaintenance, and more.\\n2'),\n",
       " Document(metadata={'producer': 'xdvipdfmx (20220710)', 'creator': 'LaTeX with hyperref', 'creationdate': '2025-09-09T15:04:36+00:00', 'source': '../data/camcom.pdf', 'total_pages': 5, 'page': 3, 'page_label': '3', 'source_file': 'camcom.pdf', 'file_type': 'pdf'}, page_content='5 Leadership and Directors\\nThe company is led by a team of experienced directors, as reported by The Com-\\npany Check and ZaubaCorp (as of June 2025):\\n• Geetha Sham: Director (Appointed: July 26, 2023)\\n• Ajith Nayar: Director (Appointed: September 7, 2017)\\n• Subramanian Mahesh: Director (Appointed: August 30, 2019)\\n• Uma Mahesh: Director (Appointed: September 7, 2017)\\n• Pradyumna Dalmia: Director (Appointed: July 26, 2023)\\n• Past Director: Pramodkumar Bhurmal (Cessation: Unknown)\\n6 Partnerships and Achievements\\nCamCom has established significant partnerships and earned multiple accolades:\\n• Key Partnerships:\\n– Myntra: Automated quality control for apparel.\\n– HDFC ERGO and Zurich: Insurance underwriting and claims.\\n– ERGO Group: 2025 rollout in Baltic states for European insurance mar-\\nkets.\\n– Guidewire and Duck Creek: Integration for vehicle damage estimation.\\n– Vistas Global: Smart city AI solutions.\\n• Awards and Recognition:'),\n",
       " Document(metadata={'producer': 'xdvipdfmx (20220710)', 'creator': 'LaTeX with hyperref', 'creationdate': '2025-09-09T15:04:36+00:00', 'source': '../data/camcom.pdf', 'total_pages': 5, 'page': 3, 'page_label': '3', 'source_file': 'camcom.pdf', 'file_type': 'pdf'}, page_content='kets.\\n– Guidewire and Duck Creek: Integration for vehicle damage estimation.\\n– Vistas Global: Smart city AI solutions.\\n• Awards and Recognition:\\n– Top Startup by Government of India, NASSCOM, Mahindra Mobility,\\nand Intel Startup Program.\\n– Aegis Graham Bell Award for Innovation in Insurance (2025).\\n• Global Presence: Offices in Dubai, Munich, and Düsseldorf, with a val-\\nuation of $4.13M after raising $1.74M across 6 funding rounds (investors\\ninclude Triton Investment Advisors).\\n• Recent Milestones (2025): Launched “AI&” (Large Vision Model platform),\\npublished a book on aircraft maintenance solutions, and celebrated 8 years\\nwith events attended by dignitaries like MP Sasmit Patra.\\n7 Commitment to Sustainability\\nCamCom aligns with global sustainability goals, supporting UN Sustainable De-\\nvelopment Goals through initiatives like migrant worker upliftment and disaster\\nresponse. Their solutions reduce manual errors, enhance efficiency, and pro-'),\n",
       " Document(metadata={'producer': 'xdvipdfmx (20220710)', 'creator': 'LaTeX with hyperref', 'creationdate': '2025-09-09T15:04:36+00:00', 'source': '../data/camcom.pdf', 'total_pages': 5, 'page': 3, 'page_label': '3', 'source_file': 'camcom.pdf', 'file_type': 'pdf'}, page_content='velopment Goals through initiatives like migrant worker upliftment and disaster\\nresponse. Their solutions reduce manual errors, enhance efficiency, and pro-\\nmote eco-friendly processes in industries like automotive and insurance.\\n3'),\n",
       " Document(metadata={'producer': 'xdvipdfmx (20220710)', 'creator': 'LaTeX with hyperref', 'creationdate': '2025-09-09T15:04:36+00:00', 'source': '../data/camcom.pdf', 'total_pages': 5, 'page': 4, 'page_label': '4', 'source_file': 'camcom.pdf', 'file_type': 'pdf'}, page_content='8 Contact Information\\n• Email: umesh@camcom.ai\\n• Telephone: Available upon request via official channels\\n• Website: https://camcom.ai\\n• Social Media: LinkedIn (https://in.linkedin.com/company/camcom),\\nX\\n• Registered Office: No. 70, 2nd Floor, 1st Cross, Shayadri Layout, Billeka-\\nhalli, Arakere, off Bannerghatta Road, Bangalore, Karnataka, India - 560076\\n4')]"
      ]
     },
     "execution_count": 8,
     "metadata": {},
     "output_type": "execute_result"
    }
   ],
   "source": [
    "chunks = split_documents(all_pdf_documents)\n",
    "chunks"
   ]
  },
  {
   "cell_type": "code",
   "execution_count": 10,
   "metadata": {},
   "outputs": [
    {
     "name": "stderr",
     "output_type": "stream",
     "text": [
      "/Users/said313/Desktop/ml_projects/.venv/lib/python3.13/site-packages/tqdm/auto.py:21: TqdmWarning: IProgress not found. Please update jupyter and ipywidgets. See https://ipywidgets.readthedocs.io/en/stable/user_install.html\n",
      "  from .autonotebook import tqdm as notebook_tqdm\n"
     ]
    }
   ],
   "source": [
    "### embedding\n",
    "import numpy as np\n",
    "from sentence_transformers import SentenceTransformer\n",
    "import chromadb\n",
    "from chromadb.config import Settings\n",
    "import uuid\n",
    "from typing import List, Dict, Any, Tuple\n",
    "from sklearn.metrics.pairwise import cosine_similarity"
   ]
  },
  {
   "cell_type": "code",
   "execution_count": 13,
   "metadata": {},
   "outputs": [
    {
     "name": "stdout",
     "output_type": "stream",
     "text": [
      "Model loaded successfully. Embedding dimension: 384\n"
     ]
    },
    {
     "data": {
      "text/plain": [
       "<__main__.EmbeddingManager at 0x14b5286e0>"
      ]
     },
     "execution_count": 13,
     "metadata": {},
     "output_type": "execute_result"
    }
   ],
   "source": [
    "class EmbeddingManager:\n",
    "\n",
    "    def __init__(self, model_name: str = \"all-MiniLM-L6-v2\"):\n",
    "        self.model_name = model_name\n",
    "        self.model = None\n",
    "        self._load_model()\n",
    "\n",
    "    def _load_model(self):\n",
    "        try:\n",
    "            self.model = SentenceTransformer(self.model_name)\n",
    "            print(f\"Model loaded successfully. Embedding dimension: {self.model.get_sentence_embedding_dimension()}\")\n",
    "        except Exception as e:\n",
    "            print(f\"Error loading model {self.model_name}: {e}\")\n",
    "            raise\n",
    "\n",
    "\n",
    "    def generate_embeddings(self, texts: List[str]) -> np.ndarray:\n",
    "\n",
    "        if not self.model:\n",
    "            raise ValueError(\"Model not loaded\")\n",
    "        \n",
    "        embeddings = self.model.encode(texts, show_progress_bar=True)\n",
    "        print(f\"Generated embeddings with shape: {embeddings.shape}\")\n",
    "        return embeddings\n",
    "\n",
    "embeddings_manager = EmbeddingManager()\n",
    "embeddings_manager\n",
    "    "
   ]
  }
 ],
 "metadata": {
  "kernelspec": {
   "display_name": ".venv",
   "language": "python",
   "name": "python3"
  },
  "language_info": {
   "codemirror_mode": {
    "name": "ipython",
    "version": 3
   },
   "file_extension": ".py",
   "mimetype": "text/x-python",
   "name": "python",
   "nbconvert_exporter": "python",
   "pygments_lexer": "ipython3",
   "version": "3.13.2"
  }
 },
 "nbformat": 4,
 "nbformat_minor": 2
}
